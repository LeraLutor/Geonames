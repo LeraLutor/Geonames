{
 "cells": [
  {
   "cell_type": "markdown",
   "id": "2030454c",
   "metadata": {
    "toc": true
   },
   "source": [
    "<h1>Содержание.<span class=\"tocSkip\"></span></h1>\n",
    "<div class=\"toc\"><ul class=\"toc-item\"><li><span><a href=\"#Задача-проекта\" data-toc-modified-id=\"Задача-проекта-1\"><span class=\"toc-item-num\">1&nbsp;&nbsp;</span>Задача проекта</a></span></li><li><span><a href=\"#Подготока-данных\" data-toc-modified-id=\"Подготока-данных-2\"><span class=\"toc-item-num\">2&nbsp;&nbsp;</span>Подготока данных</a></span><ul class=\"toc-item\"><li><span><a href=\"#Функции-обработки\" data-toc-modified-id=\"Функции-обработки-2.1\"><span class=\"toc-item-num\">2.1&nbsp;&nbsp;</span>Функции обработки</a></span></li><li><span><a href=\"#Анализ-данных.\" data-toc-modified-id=\"Анализ-данных.-2.2\"><span class=\"toc-item-num\">2.2&nbsp;&nbsp;</span>Анализ данных.</a></span></li><li><span><a href=\"#Отсеивание-стран\" data-toc-modified-id=\"Отсеивание-стран-2.3\"><span class=\"toc-item-num\">2.3&nbsp;&nbsp;</span>Отсеивание стран</a></span></li></ul></li><li><span><a href=\"#Обучение-моделей\" data-toc-modified-id=\"Обучение-моделей-3\"><span class=\"toc-item-num\">3&nbsp;&nbsp;</span>Обучение моделей</a></span><ul class=\"toc-item\"><li><span><a href=\"#Подготовка-данных.\" data-toc-modified-id=\"Подготовка-данных.-3.1\"><span class=\"toc-item-num\">3.1&nbsp;&nbsp;</span>Подготовка данных.</a></span></li><li><span><a href=\"#Обучение-моделей\" data-toc-modified-id=\"Обучение-моделей-3.2\"><span class=\"toc-item-num\">3.2&nbsp;&nbsp;</span>Обучение моделей</a></span></li></ul></li><li><span><a href=\"#Проверка-модели\" data-toc-modified-id=\"Проверка-модели-4\"><span class=\"toc-item-num\">4&nbsp;&nbsp;</span>Проверка модели</a></span></li><li><span><a href=\"#Вывод\" data-toc-modified-id=\"Вывод-5\"><span class=\"toc-item-num\">5&nbsp;&nbsp;</span>Вывод</a></span></li></ul></div>"
   ]
  },
  {
   "cell_type": "markdown",
   "id": "8071665c",
   "metadata": {},
   "source": [
    "## Задача проекта"
   ]
  },
  {
   "cell_type": "markdown",
   "id": "095166d5",
   "metadata": {},
   "source": [
    "**Цель:**\n",
    "Разработка ML модели для подбора наиболее подходящих названий с geonames.\n",
    "\n",
    "**Задачи:**\n",
    "- Создать решение для подбора наиболее подходящих названий с geonames. Например Ереван -> Yerevan\n",
    "- На примере РФ и стран наиболее популярных для релокации - Беларусь, Армения, Казахстан, Кыргызстан, Турция, Сербия. Города с населением от 15000 человек (с возможностью масштабирования на сервере заказчика)\n",
    "- Возвращаемые поля geonameid, name, region, country, cosine similarity\n",
    "- формат данных на выходе: список словарей, например [{dict_1}, {dict_2}, …. {dict_n}] где словарь - одна запись с указанными полями"
   ]
  },
  {
   "cell_type": "markdown",
   "id": "f3aed050",
   "metadata": {},
   "source": [
    "## Подготока данных"
   ]
  },
  {
   "cell_type": "markdown",
   "id": "95048995",
   "metadata": {},
   "source": [
    "Импортируем библиотеки."
   ]
  },
  {
   "cell_type": "code",
   "execution_count": 1,
   "id": "ecad8ab2",
   "metadata": {},
   "outputs": [],
   "source": [
    "import diffusers\n",
    "import numpy as np\n",
    "import pandas as pd\n",
    "import random\n",
    "import safetensors\n",
    "import warnings\n",
    "\n",
    "from IPython.display import Markdown, display\n",
    "from matplotlib import pyplot as plt\n",
    "import plotly.express as px\n",
    "from sentence_transformers import SentenceTransformer, util\n",
    "\n",
    "from sqlalchemy import create_engine, inspect\n",
    "from sqlalchemy.engine.url import URL\n",
    "\n",
    "warnings.filterwarnings('ignore')\n",
    "warnings.simplefilter('ignore')"
   ]
  },
  {
   "cell_type": "markdown",
   "id": "99d93e22",
   "metadata": {},
   "source": [
    "Установка некоторых параметров."
   ]
  },
  {
   "cell_type": "code",
   "execution_count": 2,
   "id": "35d5fd8a",
   "metadata": {},
   "outputs": [],
   "source": [
    "# PostgreSQL\n",
    "DATABASE = {\n",
    "    'drivername': 'postgresql',\n",
    "    'username': 'postgres',\n",
    "    'password': 'postgres',\n",
    "    'host': 'localhost',\n",
    "    'port': 5432,\n",
    "    'database': 'postgres',\n",
    "    'query': {}\n",
    "}\n",
    "\n",
    "# Переменная векторного кодирования\n",
    "EMBEDDER = None\n",
    "\n",
    "# Значение\n",
    "RANDOM_STATE = 12345\n",
    "\n",
    "# Коды выбранных стран\n",
    "COUNTRY_CODES = ['RU', 'BY', 'KG', 'KZ', 'AM', 'TR', 'RS']"
   ]
  },
  {
   "cell_type": "markdown",
   "id": "355c7ec9",
   "metadata": {},
   "source": [
    "### Функции обработки"
   ]
  },
  {
   "cell_type": "markdown",
   "id": "75bf1369",
   "metadata": {},
   "source": [
    "Возвращение похожих записей к запросу"
   ]
  },
  {
   "cell_type": "code",
   "execution_count": 3,
   "id": "15771570",
   "metadata": {},
   "outputs": [],
   "source": [
    "def similar(query, top_k=1, is_dictionary=False):\n",
    "    query_embedding = EMBEDDER.encode(query, convert_to_tensor=False)\n",
    "    hits = util.semantic_search(query_embedding,None, top_k=top_k)\n",
    "    hits = hits[0]\n",
    "    result_rows = []\n",
    "    for hit in hits:\n",
    "        selected_columns = ['name_city','concatenated_codes','name_admin','country']\n",
    "        result_row = selected_cities.loc[hit['corpus_id'], selected_columns].to_frame().T\n",
    "        result_row['Score'] = hit['score']\n",
    "        result_rows.append(result_row)\n",
    "\n",
    "    result_df = pd.concat(result_rows, ignore_index=True)\n",
    "    new_column_names = ['name','code','region','country','similarity']\n",
    "    result_df.columns = new_column_names\n",
    "\n",
    "    if is_dictionary:\n",
    "        return result_df.to_dict(orient='records')\n",
    "    else:\n",
    "        return result_df"
   ]
  },
  {
   "cell_type": "markdown",
   "id": "69f543ca",
   "metadata": {},
   "source": [
    "Оценка точности."
   ]
  },
  {
   "cell_type": "code",
   "execution_count": 4,
   "id": "3428bad2",
   "metadata": {},
   "outputs": [],
   "source": [
    "def accuracy_score(y_true, y_pred):\n",
    "    if y_true.shape != y_pred.shape:\n",
    "        raise ValueError('Ошибка размерности')\n",
    "    \n",
    "    matches = []\n",
    "    for index, (true_row, pred_row) in enumerate(\n",
    "        zip(y_true.itertuples(index=False), y_pred.itertuples(index=False))):\n",
    "            matches.append(1 if true_row == pred_row else 0)\n",
    "    accuracy = sum(matches) / len(matches) #средняя точность\n",
    "    return accuracy"
   ]
  },
  {
   "cell_type": "markdown",
   "id": "c006cfcd",
   "metadata": {},
   "source": [
    "Функция предсказания."
   ]
  },
  {
   "cell_type": "code",
   "execution_count": 5,
   "id": "047efcda",
   "metadata": {},
   "outputs": [],
   "source": [
    "def predict_val(queries):\n",
    "    predictions = pd.concat(\n",
    "        queries.apply(similar(query, top_k=1)[['name', 'region', 'country']]).tolist(),ignore_index=True)\n",
    "    return predictions"
   ]
  },
  {
   "cell_type": "markdown",
   "id": "90157744",
   "metadata": {},
   "source": [
    "### Анализ данных."
   ]
  },
  {
   "cell_type": "markdown",
   "id": "ec02a256",
   "metadata": {},
   "source": [
    "Для работы будут использоваться данные с сайта `Geonames.org`\n",
    "\n",
    "Выборка будет состоять из следующих файлов:\n",
    "- admin1CodesASCII - административные коды городов\n",
    "- cities15000 - названия городов и их данные\n",
    "- countryInfo - коды стран"
   ]
  },
  {
   "cell_type": "markdown",
   "id": "6e3a9e9d",
   "metadata": {},
   "source": [
    "Выгрузим данные и посмотрим их основные характеристики."
   ]
  },
  {
   "cell_type": "markdown",
   "id": "7d02c663",
   "metadata": {},
   "source": [
    "**CountryInfo**"
   ]
  },
  {
   "cell_type": "code",
   "execution_count": 6,
   "id": "0132806e",
   "metadata": {},
   "outputs": [],
   "source": [
    "countries = pd.read_csv('countryInfo.txt', delimiter='\\t', header = None, index_col=None, dtype={'geonameid': 'Int64'},\n",
    "              names=['country_code','iso3','iso-numeric','fips','country','capital','area(in_sq_km)','population',\n",
    "                   'continent','tld','currency_code','currency_name','phone','postal_code_format','postal_code_regex',\n",
    "                   'languages','geonameid','neighbours','equivalent_fips_code'],  \n",
    "              usecols=['country_code','country'] ).dropna().drop_duplicates() \n",
    "countries.reset_index(drop=True, inplace=True) "
   ]
  },
  {
   "cell_type": "code",
   "execution_count": 7,
   "id": "1884ef73",
   "metadata": {},
   "outputs": [
    {
     "name": "stdout",
     "output_type": "stream",
     "text": [
      "<class 'pandas.core.frame.DataFrame'>\n",
      "RangeIndex: 252 entries, 0 to 251\n",
      "Data columns (total 2 columns):\n",
      " #   Column        Non-Null Count  Dtype \n",
      "---  ------        --------------  ----- \n",
      " 0   country_code  252 non-null    object\n",
      " 1   country       252 non-null    object\n",
      "dtypes: object(2)\n",
      "memory usage: 4.1+ KB\n",
      "None\n",
      "       country_code  country\n",
      "count           252      252\n",
      "unique          252      252\n",
      "top            #ISO  Country\n",
      "freq              1        1\n"
     ]
    },
    {
     "data": {
      "text/html": [
       "<div>\n",
       "<style scoped>\n",
       "    .dataframe tbody tr th:only-of-type {\n",
       "        vertical-align: middle;\n",
       "    }\n",
       "\n",
       "    .dataframe tbody tr th {\n",
       "        vertical-align: top;\n",
       "    }\n",
       "\n",
       "    .dataframe thead th {\n",
       "        text-align: right;\n",
       "    }\n",
       "</style>\n",
       "<table border=\"1\" class=\"dataframe\">\n",
       "  <thead>\n",
       "    <tr style=\"text-align: right;\">\n",
       "      <th></th>\n",
       "      <th>country_code</th>\n",
       "      <th>country</th>\n",
       "    </tr>\n",
       "  </thead>\n",
       "  <tbody>\n",
       "    <tr>\n",
       "      <th>0</th>\n",
       "      <td>#ISO</td>\n",
       "      <td>Country</td>\n",
       "    </tr>\n",
       "    <tr>\n",
       "      <th>1</th>\n",
       "      <td>AD</td>\n",
       "      <td>Andorra</td>\n",
       "    </tr>\n",
       "    <tr>\n",
       "      <th>2</th>\n",
       "      <td>AE</td>\n",
       "      <td>United Arab Emirates</td>\n",
       "    </tr>\n",
       "    <tr>\n",
       "      <th>3</th>\n",
       "      <td>AF</td>\n",
       "      <td>Afghanistan</td>\n",
       "    </tr>\n",
       "    <tr>\n",
       "      <th>4</th>\n",
       "      <td>AG</td>\n",
       "      <td>Antigua and Barbuda</td>\n",
       "    </tr>\n",
       "    <tr>\n",
       "      <th>5</th>\n",
       "      <td>AI</td>\n",
       "      <td>Anguilla</td>\n",
       "    </tr>\n",
       "    <tr>\n",
       "      <th>6</th>\n",
       "      <td>AL</td>\n",
       "      <td>Albania</td>\n",
       "    </tr>\n",
       "    <tr>\n",
       "      <th>7</th>\n",
       "      <td>AM</td>\n",
       "      <td>Armenia</td>\n",
       "    </tr>\n",
       "    <tr>\n",
       "      <th>8</th>\n",
       "      <td>AO</td>\n",
       "      <td>Angola</td>\n",
       "    </tr>\n",
       "    <tr>\n",
       "      <th>9</th>\n",
       "      <td>AQ</td>\n",
       "      <td>Antarctica</td>\n",
       "    </tr>\n",
       "  </tbody>\n",
       "</table>\n",
       "</div>"
      ],
      "text/plain": [
       "  country_code               country\n",
       "0         #ISO               Country\n",
       "1           AD               Andorra\n",
       "2           AE  United Arab Emirates\n",
       "3           AF           Afghanistan\n",
       "4           AG   Antigua and Barbuda\n",
       "5           AI              Anguilla\n",
       "6           AL               Albania\n",
       "7           AM               Armenia\n",
       "8           AO                Angola\n",
       "9           AQ            Antarctica"
      ]
     },
     "execution_count": 7,
     "metadata": {},
     "output_type": "execute_result"
    }
   ],
   "source": [
    "print(countries.info())\n",
    "print(countries.describe())\n",
    "countries.head(10)"
   ]
  },
  {
   "cell_type": "markdown",
   "id": "b6b04859",
   "metadata": {},
   "source": [
    "**Cities15000**"
   ]
  },
  {
   "cell_type": "code",
   "execution_count": 8,
   "id": "09043ee9",
   "metadata": {},
   "outputs": [],
   "source": [
    "cities15000 = pd.read_csv('cities15000.txt', delimiter='\\t', header = None, index_col=None, \n",
    "                names=['geonameid','name','asciiname','alternate_names','latitude','longitude','feature_class',\n",
    "                       'feature_code','country_code','cc2','admin1_code','admin2_code','admin3_code','admin4_code',\n",
    "                       'population','elevation','dem','timezone','modification_date'],\n",
    "                usecols=['geonameid','country_code','name','admin1_code','population']).dropna().drop_duplicates() \n",
    "cities15000.reset_index(drop=True, inplace=True)"
   ]
  },
  {
   "cell_type": "code",
   "execution_count": 9,
   "id": "62914d67",
   "metadata": {},
   "outputs": [
    {
     "name": "stdout",
     "output_type": "stream",
     "text": [
      "<class 'pandas.core.frame.DataFrame'>\n",
      "RangeIndex: 27156 entries, 0 to 27155\n",
      "Data columns (total 5 columns):\n",
      " #   Column        Non-Null Count  Dtype \n",
      "---  ------        --------------  ----- \n",
      " 0   geonameid     27156 non-null  int64 \n",
      " 1   name          27156 non-null  object\n",
      " 2   country_code  27156 non-null  object\n",
      " 3   admin1_code   27156 non-null  object\n",
      " 4   population    27156 non-null  int64 \n",
      "dtypes: int64(2), object(3)\n",
      "memory usage: 1.0+ MB\n",
      "None\n",
      "          geonameid    population\n",
      "count  2.715600e+04  2.715600e+04\n",
      "mean   2.854721e+06  1.223810e+05\n",
      "std    2.208807e+06  5.293418e+05\n",
      "min    1.057000e+04  0.000000e+00\n",
      "25%    1.272944e+06  2.205725e+04\n",
      "50%    2.514236e+06  3.565750e+04\n",
      "75%    3.576220e+06  7.445750e+04\n",
      "max    1.268714e+07  2.231547e+07\n"
     ]
    },
    {
     "data": {
      "text/html": [
       "<div>\n",
       "<style scoped>\n",
       "    .dataframe tbody tr th:only-of-type {\n",
       "        vertical-align: middle;\n",
       "    }\n",
       "\n",
       "    .dataframe tbody tr th {\n",
       "        vertical-align: top;\n",
       "    }\n",
       "\n",
       "    .dataframe thead th {\n",
       "        text-align: right;\n",
       "    }\n",
       "</style>\n",
       "<table border=\"1\" class=\"dataframe\">\n",
       "  <thead>\n",
       "    <tr style=\"text-align: right;\">\n",
       "      <th></th>\n",
       "      <th>geonameid</th>\n",
       "      <th>name</th>\n",
       "      <th>country_code</th>\n",
       "      <th>admin1_code</th>\n",
       "      <th>population</th>\n",
       "    </tr>\n",
       "  </thead>\n",
       "  <tbody>\n",
       "    <tr>\n",
       "      <th>0</th>\n",
       "      <td>3040051</td>\n",
       "      <td>les Escaldes</td>\n",
       "      <td>AD</td>\n",
       "      <td>08</td>\n",
       "      <td>15853</td>\n",
       "    </tr>\n",
       "    <tr>\n",
       "      <th>1</th>\n",
       "      <td>3041563</td>\n",
       "      <td>Andorra la Vella</td>\n",
       "      <td>AD</td>\n",
       "      <td>07</td>\n",
       "      <td>20430</td>\n",
       "    </tr>\n",
       "    <tr>\n",
       "      <th>2</th>\n",
       "      <td>290594</td>\n",
       "      <td>Umm Al Quwain City</td>\n",
       "      <td>AE</td>\n",
       "      <td>07</td>\n",
       "      <td>62747</td>\n",
       "    </tr>\n",
       "    <tr>\n",
       "      <th>3</th>\n",
       "      <td>291074</td>\n",
       "      <td>Ras Al Khaimah City</td>\n",
       "      <td>AE</td>\n",
       "      <td>05</td>\n",
       "      <td>351943</td>\n",
       "    </tr>\n",
       "    <tr>\n",
       "      <th>4</th>\n",
       "      <td>291580</td>\n",
       "      <td>Zayed City</td>\n",
       "      <td>AE</td>\n",
       "      <td>01</td>\n",
       "      <td>63482</td>\n",
       "    </tr>\n",
       "    <tr>\n",
       "      <th>5</th>\n",
       "      <td>291696</td>\n",
       "      <td>Khawr Fakkān</td>\n",
       "      <td>AE</td>\n",
       "      <td>06</td>\n",
       "      <td>40677</td>\n",
       "    </tr>\n",
       "    <tr>\n",
       "      <th>6</th>\n",
       "      <td>292223</td>\n",
       "      <td>Dubai</td>\n",
       "      <td>AE</td>\n",
       "      <td>03</td>\n",
       "      <td>3478300</td>\n",
       "    </tr>\n",
       "    <tr>\n",
       "      <th>7</th>\n",
       "      <td>292231</td>\n",
       "      <td>Dibba Al-Fujairah</td>\n",
       "      <td>AE</td>\n",
       "      <td>04</td>\n",
       "      <td>30000</td>\n",
       "    </tr>\n",
       "    <tr>\n",
       "      <th>8</th>\n",
       "      <td>292239</td>\n",
       "      <td>Dibba Al-Hisn</td>\n",
       "      <td>AE</td>\n",
       "      <td>04</td>\n",
       "      <td>26395</td>\n",
       "    </tr>\n",
       "    <tr>\n",
       "      <th>9</th>\n",
       "      <td>292672</td>\n",
       "      <td>Sharjah</td>\n",
       "      <td>AE</td>\n",
       "      <td>06</td>\n",
       "      <td>1274749</td>\n",
       "    </tr>\n",
       "  </tbody>\n",
       "</table>\n",
       "</div>"
      ],
      "text/plain": [
       "   geonameid                 name country_code admin1_code  population\n",
       "0    3040051         les Escaldes           AD          08       15853\n",
       "1    3041563     Andorra la Vella           AD          07       20430\n",
       "2     290594   Umm Al Quwain City           AE          07       62747\n",
       "3     291074  Ras Al Khaimah City           AE          05      351943\n",
       "4     291580           Zayed City           AE          01       63482\n",
       "5     291696         Khawr Fakkān           AE          06       40677\n",
       "6     292223                Dubai           AE          03     3478300\n",
       "7     292231    Dibba Al-Fujairah           AE          04       30000\n",
       "8     292239        Dibba Al-Hisn           AE          04       26395\n",
       "9     292672              Sharjah           AE          06     1274749"
      ]
     },
     "execution_count": 9,
     "metadata": {},
     "output_type": "execute_result"
    }
   ],
   "source": [
    "print(cities15000.info())\n",
    "print(cities15000.describe())\n",
    "cities15000.head(10)"
   ]
  },
  {
   "cell_type": "markdown",
   "id": "00e8415f",
   "metadata": {},
   "source": [
    "**Admin1CodesASCII**"
   ]
  },
  {
   "cell_type": "code",
   "execution_count": 10,
   "id": "2ed134b8",
   "metadata": {},
   "outputs": [],
   "source": [
    "admin_codes = pd.read_csv('admin1CodesASCII.txt', delimiter='\\t', header = None, index_col=None, \n",
    "                names=['concatenated_codes','name','ascii_name','geonameid'], \n",
    "                usecols=['concatenated_codes','name']).dropna().drop_duplicates() \n",
    "admin_codes.reset_index(drop=True, inplace=True) "
   ]
  },
  {
   "cell_type": "code",
   "execution_count": 11,
   "id": "0e9179f0",
   "metadata": {},
   "outputs": [
    {
     "name": "stdout",
     "output_type": "stream",
     "text": [
      "<class 'pandas.core.frame.DataFrame'>\n",
      "RangeIndex: 3881 entries, 0 to 3880\n",
      "Data columns (total 2 columns):\n",
      " #   Column              Non-Null Count  Dtype \n",
      "---  ------              --------------  ----- \n",
      " 0   concatenated_codes  3881 non-null   object\n",
      " 1   name                3881 non-null   object\n",
      "dtypes: object(2)\n",
      "memory usage: 60.8+ KB\n",
      "None\n",
      "       concatenated_codes          name\n",
      "count                3881          3881\n",
      "unique               3881          3782\n",
      "top                 AD.06  Saint George\n",
      "freq                    1             6\n"
     ]
    },
    {
     "data": {
      "text/html": [
       "<div>\n",
       "<style scoped>\n",
       "    .dataframe tbody tr th:only-of-type {\n",
       "        vertical-align: middle;\n",
       "    }\n",
       "\n",
       "    .dataframe tbody tr th {\n",
       "        vertical-align: top;\n",
       "    }\n",
       "\n",
       "    .dataframe thead th {\n",
       "        text-align: right;\n",
       "    }\n",
       "</style>\n",
       "<table border=\"1\" class=\"dataframe\">\n",
       "  <thead>\n",
       "    <tr style=\"text-align: right;\">\n",
       "      <th></th>\n",
       "      <th>concatenated_codes</th>\n",
       "      <th>name</th>\n",
       "    </tr>\n",
       "  </thead>\n",
       "  <tbody>\n",
       "    <tr>\n",
       "      <th>0</th>\n",
       "      <td>AD.06</td>\n",
       "      <td>Sant Julià de Loria</td>\n",
       "    </tr>\n",
       "    <tr>\n",
       "      <th>1</th>\n",
       "      <td>AD.05</td>\n",
       "      <td>Ordino</td>\n",
       "    </tr>\n",
       "    <tr>\n",
       "      <th>2</th>\n",
       "      <td>AD.04</td>\n",
       "      <td>La Massana</td>\n",
       "    </tr>\n",
       "    <tr>\n",
       "      <th>3</th>\n",
       "      <td>AD.03</td>\n",
       "      <td>Encamp</td>\n",
       "    </tr>\n",
       "    <tr>\n",
       "      <th>4</th>\n",
       "      <td>AD.02</td>\n",
       "      <td>Canillo</td>\n",
       "    </tr>\n",
       "    <tr>\n",
       "      <th>5</th>\n",
       "      <td>AD.07</td>\n",
       "      <td>Andorra la Vella</td>\n",
       "    </tr>\n",
       "    <tr>\n",
       "      <th>6</th>\n",
       "      <td>AD.08</td>\n",
       "      <td>Escaldes-Engordany</td>\n",
       "    </tr>\n",
       "    <tr>\n",
       "      <th>7</th>\n",
       "      <td>AE.07</td>\n",
       "      <td>Imārat Umm al Qaywayn</td>\n",
       "    </tr>\n",
       "    <tr>\n",
       "      <th>8</th>\n",
       "      <td>AE.05</td>\n",
       "      <td>Raʼs al Khaymah</td>\n",
       "    </tr>\n",
       "    <tr>\n",
       "      <th>9</th>\n",
       "      <td>AE.03</td>\n",
       "      <td>Dubai</td>\n",
       "    </tr>\n",
       "  </tbody>\n",
       "</table>\n",
       "</div>"
      ],
      "text/plain": [
       "  concatenated_codes                   name\n",
       "0              AD.06    Sant Julià de Loria\n",
       "1              AD.05                 Ordino\n",
       "2              AD.04             La Massana\n",
       "3              AD.03                 Encamp\n",
       "4              AD.02                Canillo\n",
       "5              AD.07       Andorra la Vella\n",
       "6              AD.08     Escaldes-Engordany\n",
       "7              AE.07  Imārat Umm al Qaywayn\n",
       "8              AE.05        Raʼs al Khaymah\n",
       "9              AE.03                  Dubai"
      ]
     },
     "execution_count": 11,
     "metadata": {},
     "output_type": "execute_result"
    }
   ],
   "source": [
    "print(admin_codes.info())\n",
    "print(admin_codes.describe())\n",
    "admin_codes.head(10)"
   ]
  },
  {
   "cell_type": "markdown",
   "id": "7368984e",
   "metadata": {},
   "source": [
    "Пропущенных данных ни в одной таблице нет --> можно спокойно дальше работать с данными."
   ]
  },
  {
   "cell_type": "markdown",
   "id": "c3663117",
   "metadata": {},
   "source": [
    "В таблице admin_codes столбец с кодами содержит как код страны, так и административный код, поэтому разделим это столбец на два разных."
   ]
  },
  {
   "cell_type": "code",
   "execution_count": 12,
   "id": "7217a039",
   "metadata": {},
   "outputs": [],
   "source": [
    "admin_codes[['country_code', 'admin1_code']] = admin_codes['concatenated_codes'].str.split('.', expand=True)"
   ]
  },
  {
   "cell_type": "markdown",
   "id": "b1cd2199",
   "metadata": {},
   "source": [
    "Для дальнейшей работы нам понадобится датафрейм, включающий в себя объединенные данные из всез 3х таблиц."
   ]
  },
  {
   "cell_type": "code",
   "execution_count": 13,
   "id": "57d9c504",
   "metadata": {},
   "outputs": [],
   "source": [
    "joined_df = pd.merge(\n",
    "    pd.merge(admin_codes,countries, on='country_code', how='left'), cities15000, on=['country_code', 'admin1_code'], \n",
    "    how='left', suffixes=('_admin', '_city')).dropna() "
   ]
  },
  {
   "cell_type": "markdown",
   "id": "e9d8b328",
   "metadata": {},
   "source": [
    "Выведем случайную выборку из получившихся данных."
   ]
  },
  {
   "cell_type": "code",
   "execution_count": 14,
   "id": "a4202779",
   "metadata": {},
   "outputs": [
    {
     "data": {
      "text/html": [
       "<div>\n",
       "<style scoped>\n",
       "    .dataframe tbody tr th:only-of-type {\n",
       "        vertical-align: middle;\n",
       "    }\n",
       "\n",
       "    .dataframe tbody tr th {\n",
       "        vertical-align: top;\n",
       "    }\n",
       "\n",
       "    .dataframe thead th {\n",
       "        text-align: right;\n",
       "    }\n",
       "</style>\n",
       "<table border=\"1\" class=\"dataframe\">\n",
       "  <thead>\n",
       "    <tr style=\"text-align: right;\">\n",
       "      <th></th>\n",
       "      <th>concatenated_codes</th>\n",
       "      <th>name_admin</th>\n",
       "      <th>country_code</th>\n",
       "      <th>admin1_code</th>\n",
       "      <th>country</th>\n",
       "      <th>geonameid</th>\n",
       "      <th>name_city</th>\n",
       "      <th>population</th>\n",
       "    </tr>\n",
       "  </thead>\n",
       "  <tbody>\n",
       "    <tr>\n",
       "      <th>23984</th>\n",
       "      <td>UA.17</td>\n",
       "      <td>Odessa</td>\n",
       "      <td>UA</td>\n",
       "      <td>17</td>\n",
       "      <td>Ukraine</td>\n",
       "      <td>712886.0</td>\n",
       "      <td>Balta</td>\n",
       "      <td>18511.0</td>\n",
       "    </tr>\n",
       "    <tr>\n",
       "      <th>12893</th>\n",
       "      <td>IN.23</td>\n",
       "      <td>Punjab</td>\n",
       "      <td>IN</td>\n",
       "      <td>23</td>\n",
       "      <td>India</td>\n",
       "      <td>1262596.0</td>\n",
       "      <td>Mukeriān</td>\n",
       "      <td>22751.0</td>\n",
       "    </tr>\n",
       "    <tr>\n",
       "      <th>26113</th>\n",
       "      <td>US.NY</td>\n",
       "      <td>New York</td>\n",
       "      <td>US</td>\n",
       "      <td>NY</td>\n",
       "      <td>United States</td>\n",
       "      <td>5134453.0</td>\n",
       "      <td>Rotterdam</td>\n",
       "      <td>20652.0</td>\n",
       "    </tr>\n",
       "    <tr>\n",
       "      <th>14418</th>\n",
       "      <td>IQ.02</td>\n",
       "      <td>Basra</td>\n",
       "      <td>IQ</td>\n",
       "      <td>02</td>\n",
       "      <td>Iraq</td>\n",
       "      <td>89824.0</td>\n",
       "      <td>Umm Qaşr</td>\n",
       "      <td>107620.0</td>\n",
       "    </tr>\n",
       "    <tr>\n",
       "      <th>12012</th>\n",
       "      <td>IN.28</td>\n",
       "      <td>West Bengal</td>\n",
       "      <td>IN</td>\n",
       "      <td>28</td>\n",
       "      <td>India</td>\n",
       "      <td>1271670.0</td>\n",
       "      <td>Gangārāmpur</td>\n",
       "      <td>65316.0</td>\n",
       "    </tr>\n",
       "    <tr>\n",
       "      <th>24346</th>\n",
       "      <td>US.FL</td>\n",
       "      <td>Florida</td>\n",
       "      <td>US</td>\n",
       "      <td>FL</td>\n",
       "      <td>United States</td>\n",
       "      <td>4160705.0</td>\n",
       "      <td>Kendale Lakes</td>\n",
       "      <td>56148.0</td>\n",
       "    </tr>\n",
       "    <tr>\n",
       "      <th>9659</th>\n",
       "      <td>FR.32</td>\n",
       "      <td>Hauts-de-France</td>\n",
       "      <td>FR</td>\n",
       "      <td>32</td>\n",
       "      <td>France</td>\n",
       "      <td>2995908.0</td>\n",
       "      <td>Marcq-en-Barœul</td>\n",
       "      <td>38629.0</td>\n",
       "    </tr>\n",
       "    <tr>\n",
       "      <th>2660</th>\n",
       "      <td>BR.05</td>\n",
       "      <td>Bahia</td>\n",
       "      <td>BR</td>\n",
       "      <td>05</td>\n",
       "      <td>Brazil</td>\n",
       "      <td>3456696.0</td>\n",
       "      <td>Morro do Chapéu</td>\n",
       "      <td>21670.0</td>\n",
       "    </tr>\n",
       "    <tr>\n",
       "      <th>11231</th>\n",
       "      <td>HT.11</td>\n",
       "      <td>Ouest</td>\n",
       "      <td>HT</td>\n",
       "      <td>11</td>\n",
       "      <td>Haiti</td>\n",
       "      <td>3722286.0</td>\n",
       "      <td>Léogâne</td>\n",
       "      <td>134190.0</td>\n",
       "    </tr>\n",
       "    <tr>\n",
       "      <th>17130</th>\n",
       "      <td>MG.12</td>\n",
       "      <td>Vakinankaratra</td>\n",
       "      <td>MG</td>\n",
       "      <td>12</td>\n",
       "      <td>Madagascar</td>\n",
       "      <td>1065140.0</td>\n",
       "      <td>Faratsiho</td>\n",
       "      <td>37563.0</td>\n",
       "    </tr>\n",
       "  </tbody>\n",
       "</table>\n",
       "</div>"
      ],
      "text/plain": [
       "      concatenated_codes       name_admin country_code admin1_code  \\\n",
       "23984              UA.17           Odessa           UA          17   \n",
       "12893              IN.23           Punjab           IN          23   \n",
       "26113              US.NY         New York           US          NY   \n",
       "14418              IQ.02            Basra           IQ          02   \n",
       "12012              IN.28      West Bengal           IN          28   \n",
       "24346              US.FL          Florida           US          FL   \n",
       "9659               FR.32  Hauts-de-France           FR          32   \n",
       "2660               BR.05            Bahia           BR          05   \n",
       "11231              HT.11            Ouest           HT          11   \n",
       "17130              MG.12   Vakinankaratra           MG          12   \n",
       "\n",
       "             country  geonameid        name_city  population  \n",
       "23984        Ukraine   712886.0            Balta     18511.0  \n",
       "12893          India  1262596.0         Mukeriān     22751.0  \n",
       "26113  United States  5134453.0        Rotterdam     20652.0  \n",
       "14418           Iraq    89824.0         Umm Qaşr    107620.0  \n",
       "12012          India  1271670.0      Gangārāmpur     65316.0  \n",
       "24346  United States  4160705.0    Kendale Lakes     56148.0  \n",
       "9659          France  2995908.0  Marcq-en-Barœul     38629.0  \n",
       "2660          Brazil  3456696.0  Morro do Chapéu     21670.0  \n",
       "11231          Haiti  3722286.0          Léogâne    134190.0  \n",
       "17130     Madagascar  1065140.0        Faratsiho     37563.0  "
      ]
     },
     "execution_count": 14,
     "metadata": {},
     "output_type": "execute_result"
    }
   ],
   "source": [
    "joined_df.sample(10, random_state=RANDOM_STATE)"
   ]
  },
  {
   "cell_type": "markdown",
   "id": "36bcf34d",
   "metadata": {},
   "source": [
    "Можно посмотреть распределение популяции людей по континентам. Для этого нам понадобится датасет с данными, какая стран относится к какому континенту. Создадим отдельную таблицу со странами, континентами и их популяцией."
   ]
  },
  {
   "cell_type": "code",
   "execution_count": 15,
   "id": "984e453f",
   "metadata": {},
   "outputs": [
    {
     "name": "stdout",
     "output_type": "stream",
     "text": [
      "<class 'pandas.core.frame.DataFrame'>\n",
      "RangeIndex: 262 entries, 0 to 261\n",
      "Data columns (total 6 columns):\n",
      " #   Column                     Non-Null Count  Dtype  \n",
      "---  ------                     --------------  -----  \n",
      " 0   Continent_Name             262 non-null    object \n",
      " 1   Continent_Code             219 non-null    object \n",
      " 2   Country_Name               262 non-null    object \n",
      " 3   Two_Letter_Country_Code    261 non-null    object \n",
      " 4   Three_Letter_Country_Code  258 non-null    object \n",
      " 5   Country_Number             258 non-null    float64\n",
      "dtypes: float64(1), object(5)\n",
      "memory usage: 12.4+ KB\n"
     ]
    },
    {
     "data": {
      "text/html": [
       "<div>\n",
       "<style scoped>\n",
       "    .dataframe tbody tr th:only-of-type {\n",
       "        vertical-align: middle;\n",
       "    }\n",
       "\n",
       "    .dataframe tbody tr th {\n",
       "        vertical-align: top;\n",
       "    }\n",
       "\n",
       "    .dataframe thead th {\n",
       "        text-align: right;\n",
       "    }\n",
       "</style>\n",
       "<table border=\"1\" class=\"dataframe\">\n",
       "  <thead>\n",
       "    <tr style=\"text-align: right;\">\n",
       "      <th></th>\n",
       "      <th>Continent_Name</th>\n",
       "      <th>Continent_Code</th>\n",
       "      <th>Country_Name</th>\n",
       "      <th>Two_Letter_Country_Code</th>\n",
       "      <th>Three_Letter_Country_Code</th>\n",
       "      <th>Country_Number</th>\n",
       "    </tr>\n",
       "  </thead>\n",
       "  <tbody>\n",
       "    <tr>\n",
       "      <th>0</th>\n",
       "      <td>Asia</td>\n",
       "      <td>AS</td>\n",
       "      <td>Afghanistan, Islamic Republic of</td>\n",
       "      <td>AF</td>\n",
       "      <td>AFG</td>\n",
       "      <td>4.0</td>\n",
       "    </tr>\n",
       "    <tr>\n",
       "      <th>1</th>\n",
       "      <td>Europe</td>\n",
       "      <td>EU</td>\n",
       "      <td>Albania, Republic of</td>\n",
       "      <td>AL</td>\n",
       "      <td>ALB</td>\n",
       "      <td>8.0</td>\n",
       "    </tr>\n",
       "    <tr>\n",
       "      <th>2</th>\n",
       "      <td>Antarctica</td>\n",
       "      <td>AN</td>\n",
       "      <td>Antarctica (the territory South of 60 deg S)</td>\n",
       "      <td>AQ</td>\n",
       "      <td>ATA</td>\n",
       "      <td>10.0</td>\n",
       "    </tr>\n",
       "    <tr>\n",
       "      <th>3</th>\n",
       "      <td>Africa</td>\n",
       "      <td>AF</td>\n",
       "      <td>Algeria, People's Democratic Republic of</td>\n",
       "      <td>DZ</td>\n",
       "      <td>DZA</td>\n",
       "      <td>12.0</td>\n",
       "    </tr>\n",
       "    <tr>\n",
       "      <th>4</th>\n",
       "      <td>Oceania</td>\n",
       "      <td>OC</td>\n",
       "      <td>American Samoa</td>\n",
       "      <td>AS</td>\n",
       "      <td>ASM</td>\n",
       "      <td>16.0</td>\n",
       "    </tr>\n",
       "  </tbody>\n",
       "</table>\n",
       "</div>"
      ],
      "text/plain": [
       "  Continent_Name Continent_Code                                  Country_Name  \\\n",
       "0           Asia             AS              Afghanistan, Islamic Republic of   \n",
       "1         Europe             EU                          Albania, Republic of   \n",
       "2     Antarctica             AN  Antarctica (the territory South of 60 deg S)   \n",
       "3         Africa             AF      Algeria, People's Democratic Republic of   \n",
       "4        Oceania             OC                                American Samoa   \n",
       "\n",
       "  Two_Letter_Country_Code Three_Letter_Country_Code  Country_Number  \n",
       "0                      AF                       AFG             4.0  \n",
       "1                      AL                       ALB             8.0  \n",
       "2                      AQ                       ATA            10.0  \n",
       "3                      DZ                       DZA            12.0  \n",
       "4                      AS                       ASM            16.0  "
      ]
     },
     "execution_count": 15,
     "metadata": {},
     "output_type": "execute_result"
    }
   ],
   "source": [
    "continents = pd.read_csv('country-and-continent-codes-list-csv.csv', delimiter=',')\n",
    "continents.info()\n",
    "continents.head()"
   ]
  },
  {
   "cell_type": "code",
   "execution_count": 16,
   "id": "51761efc",
   "metadata": {},
   "outputs": [
    {
     "name": "stdout",
     "output_type": "stream",
     "text": [
      "<class 'pandas.core.frame.DataFrame'>\n",
      "Int64Index: 231 entries, 0 to 257\n",
      "Data columns (total 7 columns):\n",
      " #   Column                     Non-Null Count  Dtype  \n",
      "---  ------                     --------------  -----  \n",
      " 0   Continent_Name             231 non-null    object \n",
      " 1   Continent_Code             197 non-null    object \n",
      " 2   Country_Name               231 non-null    object \n",
      " 3   Two_Letter_Country_Code    231 non-null    object \n",
      " 4   Three_Letter_Country_Code  231 non-null    object \n",
      " 5   Country_Number             231 non-null    float64\n",
      " 6   population                 231 non-null    float64\n",
      "dtypes: float64(2), object(5)\n",
      "memory usage: 14.4+ KB\n"
     ]
    },
    {
     "data": {
      "text/html": [
       "<div>\n",
       "<style scoped>\n",
       "    .dataframe tbody tr th:only-of-type {\n",
       "        vertical-align: middle;\n",
       "    }\n",
       "\n",
       "    .dataframe tbody tr th {\n",
       "        vertical-align: top;\n",
       "    }\n",
       "\n",
       "    .dataframe thead th {\n",
       "        text-align: right;\n",
       "    }\n",
       "</style>\n",
       "<table border=\"1\" class=\"dataframe\">\n",
       "  <thead>\n",
       "    <tr style=\"text-align: right;\">\n",
       "      <th></th>\n",
       "      <th>Continent_Name</th>\n",
       "      <th>Continent_Code</th>\n",
       "      <th>Country_Name</th>\n",
       "      <th>Two_Letter_Country_Code</th>\n",
       "      <th>Three_Letter_Country_Code</th>\n",
       "      <th>Country_Number</th>\n",
       "      <th>population</th>\n",
       "    </tr>\n",
       "  </thead>\n",
       "  <tbody>\n",
       "    <tr>\n",
       "      <th>0</th>\n",
       "      <td>Asia</td>\n",
       "      <td>AS</td>\n",
       "      <td>Afghanistan, Islamic Republic of</td>\n",
       "      <td>AF</td>\n",
       "      <td>AFG</td>\n",
       "      <td>4.0</td>\n",
       "      <td>8515076.0</td>\n",
       "    </tr>\n",
       "    <tr>\n",
       "      <th>1</th>\n",
       "      <td>Europe</td>\n",
       "      <td>EU</td>\n",
       "      <td>Albania, Republic of</td>\n",
       "      <td>AL</td>\n",
       "      <td>ALB</td>\n",
       "      <td>8.0</td>\n",
       "      <td>1349299.0</td>\n",
       "    </tr>\n",
       "    <tr>\n",
       "      <th>3</th>\n",
       "      <td>Africa</td>\n",
       "      <td>AF</td>\n",
       "      <td>Algeria, People's Democratic Republic of</td>\n",
       "      <td>DZ</td>\n",
       "      <td>DZA</td>\n",
       "      <td>12.0</td>\n",
       "      <td>20057133.0</td>\n",
       "    </tr>\n",
       "    <tr>\n",
       "      <th>4</th>\n",
       "      <td>Oceania</td>\n",
       "      <td>OC</td>\n",
       "      <td>American Samoa</td>\n",
       "      <td>AS</td>\n",
       "      <td>ASM</td>\n",
       "      <td>16.0</td>\n",
       "      <td>11500.0</td>\n",
       "    </tr>\n",
       "    <tr>\n",
       "      <th>5</th>\n",
       "      <td>Europe</td>\n",
       "      <td>EU</td>\n",
       "      <td>Andorra, Principality of</td>\n",
       "      <td>AD</td>\n",
       "      <td>AND</td>\n",
       "      <td>20.0</td>\n",
       "      <td>36283.0</td>\n",
       "    </tr>\n",
       "  </tbody>\n",
       "</table>\n",
       "</div>"
      ],
      "text/plain": [
       "  Continent_Name Continent_Code                              Country_Name  \\\n",
       "0           Asia             AS          Afghanistan, Islamic Republic of   \n",
       "1         Europe             EU                      Albania, Republic of   \n",
       "3         Africa             AF  Algeria, People's Democratic Republic of   \n",
       "4        Oceania             OC                            American Samoa   \n",
       "5         Europe             EU                  Andorra, Principality of   \n",
       "\n",
       "  Two_Letter_Country_Code Three_Letter_Country_Code  Country_Number  \\\n",
       "0                      AF                       AFG             4.0   \n",
       "1                      AL                       ALB             8.0   \n",
       "3                      DZ                       DZA            12.0   \n",
       "4                      AS                       ASM            16.0   \n",
       "5                      AD                       AND            20.0   \n",
       "\n",
       "   population  \n",
       "0   8515076.0  \n",
       "1   1349299.0  \n",
       "3  20057133.0  \n",
       "4     11500.0  \n",
       "5     36283.0  "
      ]
     },
     "execution_count": 16,
     "metadata": {},
     "output_type": "execute_result"
    }
   ],
   "source": [
    "y = joined_df.groupby(['country_code'])['population'].sum()\n",
    "continent_country = continents.join(y, on='Two_Letter_Country_Code',)\n",
    "continent_country = continent_country.dropna(subset=['population'])\n",
    "continent_country.info()\n",
    "continent_country.head()"
   ]
  },
  {
   "cell_type": "code",
   "execution_count": 17,
   "id": "a4db3a33",
   "metadata": {},
   "outputs": [
    {
     "data": {
      "text/html": [
       "<div>\n",
       "<style scoped>\n",
       "    .dataframe tbody tr th:only-of-type {\n",
       "        vertical-align: middle;\n",
       "    }\n",
       "\n",
       "    .dataframe tbody tr th {\n",
       "        vertical-align: top;\n",
       "    }\n",
       "\n",
       "    .dataframe thead th {\n",
       "        text-align: right;\n",
       "    }\n",
       "</style>\n",
       "<table border=\"1\" class=\"dataframe\">\n",
       "  <thead>\n",
       "    <tr style=\"text-align: right;\">\n",
       "      <th></th>\n",
       "      <th>population</th>\n",
       "    </tr>\n",
       "    <tr>\n",
       "      <th>Continent_Name</th>\n",
       "      <th></th>\n",
       "    </tr>\n",
       "  </thead>\n",
       "  <tbody>\n",
       "    <tr>\n",
       "      <th>Africa</th>\n",
       "      <td>4.075750e+08</td>\n",
       "    </tr>\n",
       "    <tr>\n",
       "      <th>Antarctica</th>\n",
       "      <td>4.500000e+01</td>\n",
       "    </tr>\n",
       "    <tr>\n",
       "      <th>Asia</th>\n",
       "      <td>1.835620e+09</td>\n",
       "    </tr>\n",
       "    <tr>\n",
       "      <th>Europe</th>\n",
       "      <td>5.841259e+08</td>\n",
       "    </tr>\n",
       "    <tr>\n",
       "      <th>North America</th>\n",
       "      <td>3.746286e+08</td>\n",
       "    </tr>\n",
       "    <tr>\n",
       "      <th>Oceania</th>\n",
       "      <td>3.201189e+07</td>\n",
       "    </tr>\n",
       "    <tr>\n",
       "      <th>South America</th>\n",
       "      <td>2.797527e+08</td>\n",
       "    </tr>\n",
       "  </tbody>\n",
       "</table>\n",
       "</div>"
      ],
      "text/plain": [
       "                  population\n",
       "Continent_Name              \n",
       "Africa          4.075750e+08\n",
       "Antarctica      4.500000e+01\n",
       "Asia            1.835620e+09\n",
       "Europe          5.841259e+08\n",
       "North America   3.746286e+08\n",
       "Oceania         3.201189e+07\n",
       "South America   2.797527e+08"
      ]
     },
     "execution_count": 17,
     "metadata": {},
     "output_type": "execute_result"
    }
   ],
   "source": [
    "cont = continent_country.groupby(['Continent_Name'])['population'].sum()\n",
    "cont = pd.DataFrame(cont)\n",
    "cont"
   ]
  },
  {
   "cell_type": "markdown",
   "id": "90aa7e2e",
   "metadata": {},
   "source": [
    "Получили примерные цифры популиции населения имеющихся у нас в выборке городов."
   ]
  },
  {
   "cell_type": "markdown",
   "id": "3a156a58",
   "metadata": {},
   "source": [
    "### Отсеивание стран"
   ]
  },
  {
   "cell_type": "markdown",
   "id": "6219fdbb",
   "metadata": {},
   "source": [
    "По заданию, нам необходимы только такие страны, как Россия, Беларусь, Армения, Казахстан, Кыргызстан, Турция, Сербия. Поэтому ограничим данные в датасете только ими."
   ]
  },
  {
   "cell_type": "code",
   "execution_count": 20,
   "id": "a61f4784",
   "metadata": {},
   "outputs": [
    {
     "data": {
      "text/plain": [
       "['RU', 'BY', 'KG', 'KZ', 'AM', 'TR', 'RS']"
      ]
     },
     "execution_count": 20,
     "metadata": {},
     "output_type": "execute_result"
    }
   ],
   "source": [
    "COUNTRY_CODES"
   ]
  },
  {
   "cell_type": "code",
   "execution_count": 21,
   "id": "1d3fe570",
   "metadata": {},
   "outputs": [],
   "source": [
    "selected_cities = joined_df[joined_df['country_code'].isin(COUNTRY_CODES)].reset_index(drop=True)"
   ]
  },
  {
   "cell_type": "markdown",
   "id": "4c2e996a",
   "metadata": {},
   "source": [
    "## Обучение моделей"
   ]
  },
  {
   "cell_type": "markdown",
   "id": "1e992140",
   "metadata": {},
   "source": [
    "Для проведения тестов у нас имеется набор данных, каторые содержат запрос *query* и ожидаемый результат запроса."
   ]
  },
  {
   "cell_type": "markdown",
   "id": "a11d2722",
   "metadata": {},
   "source": [
    "По заданию данные необходимо хранить в PostgreSQL, следовательно удем используем SQLAlchemy для работы с базой.\n",
    "\n",
    "Создадим объект для подключения к базе."
   ]
  },
  {
   "cell_type": "code",
   "execution_count": 23,
   "id": "3c33637b",
   "metadata": {},
   "outputs": [],
   "source": [
    "engine = create_engine(URL(**DATABASE))"
   ]
  },
  {
   "cell_type": "markdown",
   "id": "b844d2c4",
   "metadata": {},
   "source": [
    "### Подготовка данных."
   ]
  },
  {
   "cell_type": "markdown",
   "id": "b6653c88",
   "metadata": {},
   "source": [
    "Загрузим датасет с тестовыми данными."
   ]
  },
  {
   "cell_type": "code",
   "execution_count": 25,
   "id": "acadbfb9",
   "metadata": {},
   "outputs": [
    {
     "name": "stdout",
     "output_type": "stream",
     "text": [
      "<class 'pandas.core.frame.DataFrame'>\n",
      "RangeIndex: 348 entries, 0 to 347\n",
      "Data columns (total 4 columns):\n",
      " #   Column   Non-Null Count  Dtype \n",
      "---  ------   --------------  ----- \n",
      " 0   query    348 non-null    object\n",
      " 1   name     348 non-null    object\n",
      " 2   region   348 non-null    object\n",
      " 3   country  348 non-null    object\n",
      "dtypes: object(4)\n",
      "memory usage: 11.0+ KB\n"
     ]
    }
   ],
   "source": [
    "true_set = pd.read_csv('geo_test.csv', delimiter=';')\n",
    "true_set.info()"
   ]
  },
  {
   "cell_type": "markdown",
   "id": "30a58682",
   "metadata": {},
   "source": [
    "Теперь необходимо разделить датасет на features И target."
   ]
  },
  {
   "cell_type": "code",
   "execution_count": 26,
   "id": "4797aa1d",
   "metadata": {},
   "outputs": [],
   "source": [
    "X_true = true_set['query']\n",
    "y_true = true_set.drop('query', axis=1)"
   ]
  },
  {
   "cell_type": "markdown",
   "id": "f01ef9c9",
   "metadata": {},
   "source": [
    "### Обучение моделей"
   ]
  },
  {
   "cell_type": "markdown",
   "id": "69ca459d",
   "metadata": {},
   "source": [
    "LaBSE (language-agnostic BERT sentence embeddings) – это модель, основная задача которой сближать друг с другом эмбеддинги предложений с одинаковым смыслом на разных языках. Благодаря этой способности можно, например, обучать модель классифицировать английские тексты, а потом применять на русских, или находить в большом корпусе пары предложений на разных языках, являющиеся переводами друг друга.\n",
    "\n",
    "Для обучения есть 4 модели на основе LaBSE с разным количсеством эпох (1, 3, 5, 7), которые загружются для проверки через SentenceTransformer."
   ]
  },
  {
   "cell_type": "code",
   "execution_count": 58,
   "id": "2cb247e5",
   "metadata": {
    "scrolled": false
   },
   "outputs": [],
   "source": [
    "model_names = ['LaBSE-geonames-1e','LaBSE-geonames-3e','LaBSE-geonames-5e','LaBSE-geonames-7e']\n",
    "results_df = pd.DataFrame(columns=['Model', 'Accuracy'])\n",
    "inspector = inspect(engine)\n",
    "\n",
    "for model_name in model_names:\n",
    "    EMBEDDER = SentenceTransformer(model_names)\n",
    "    epochs = model_name.split('-')[-1]\n",
    "    table_name = f'corpus_embeddings_{epochs}'\n",
    "    \n",
    "    if inspector.has_table(table_name):\n",
    "        query = f'SELECT * FROM {table_name}'\n",
    "        CORPUS_EMBEDDINGS = pd.read_sql_query(query,con=engine).astype('float32').values\n",
    "    else:\n",
    "        corpus = selected_cities['name_city']\n",
    "        CORPUS_EMBEDDINGS = EMBEDDER.encode(corpus, convert_to_tensor=False)\n",
    "        pd.DataFrame(CORPUS_EMBEDDINGS).to_sql( table_name, con=engine,if_exists='replace',index=False)\n",
    "\n",
    "    y_inference = predict_val(X_true)  # Функция предсказания\n",
    "    accuracy = accuracy_score(y_true, y_inference)  # Функция оценки точности\n",
    "\n",
    "    results_df = pd.concat([results_df, pd.DataFrame({'Model': [model_name], 'Accuracy': [accuracy]})], ignore_index=True)"
   ]
  },
  {
   "cell_type": "markdown",
   "id": "0c4d6b2f",
   "metadata": {},
   "source": [
    "Выведем результаты оценки моделей."
   ]
  },
  {
   "cell_type": "code",
   "execution_count": 31,
   "id": "8ff774ac",
   "metadata": {
    "scrolled": true
   },
   "outputs": [
    {
     "data": {
      "text/html": [
       "<div>\n",
       "<style scoped>\n",
       "    .dataframe tbody tr th:only-of-type {\n",
       "        vertical-align: middle;\n",
       "    }\n",
       "\n",
       "    .dataframe tbody tr th {\n",
       "        vertical-align: top;\n",
       "    }\n",
       "\n",
       "    .dataframe thead th {\n",
       "        text-align: right;\n",
       "    }\n",
       "</style>\n",
       "<table border=\"1\" class=\"dataframe\">\n",
       "  <thead>\n",
       "    <tr style=\"text-align: right;\">\n",
       "      <th></th>\n",
       "      <th>Model</th>\n",
       "      <th>Accuracy</th>\n",
       "    </tr>\n",
       "  </thead>\n",
       "  <tbody>\n",
       "    <tr>\n",
       "      <th>0</th>\n",
       "      <td>LaBSE-geonames-1e</td>\n",
       "      <td>0.8600</td>\n",
       "    </tr>\n",
       "    <tr>\n",
       "      <th>1</th>\n",
       "      <td>LaBSE-geonames-3e</td>\n",
       "      <td>0.8333</td>\n",
       "    </tr>\n",
       "    <tr>\n",
       "      <th>2</th>\n",
       "      <td>LaBSE-geonames-5e</td>\n",
       "      <td>0.7767</td>\n",
       "    </tr>\n",
       "    <tr>\n",
       "      <th>3</th>\n",
       "      <td>LaBSE-geonames-7e</td>\n",
       "      <td>0.7767</td>\n",
       "    </tr>\n",
       "  </tbody>\n",
       "</table>\n",
       "</div>"
      ],
      "text/plain": [
       "               Model  Accuracy\n",
       "0  LaBSE-geonames-1e    0.8600\n",
       "1  LaBSE-geonames-3e    0.8333\n",
       "2  LaBSE-geonames-5e    0.7767\n",
       "3  LaBSE-geonames-7e    0.7767"
      ]
     },
     "execution_count": 31,
     "metadata": {},
     "output_type": "execute_result"
    }
   ],
   "source": [
    "results_df = results_df.sort_values(by='Accuracy', ascending=False)\n",
    "results_df"
   ]
  },
  {
   "cell_type": "markdown",
   "id": "d63e13c6",
   "metadata": {},
   "source": [
    "Как можно увидеть, лучшей себя показала модель обученная на 1 эпохе и результатом *accuracy* 0.86."
   ]
  },
  {
   "cell_type": "markdown",
   "id": "be3a42a8",
   "metadata": {},
   "source": [
    "Произведем загрузку лучшей модели."
   ]
  },
  {
   "cell_type": "code",
   "execution_count": 35,
   "id": "a47b88c2",
   "metadata": {
    "scrolled": false
   },
   "outputs": [],
   "source": [
    "best_model_name = results_df.iloc[0]['Model']\n",
    "EMBEDDER = SentenceTransformer(best_model_name)\n",
    "epochs = best_model_name.split('-')[-1]\n",
    "best_table_name = f'corpus_embeddings_{epochs}'\n",
    "query = f'SELECT * FROM {best_table_name}'\n",
    "CORPUS_EMBEDDINGS = pd.read_sql_query(query,con=engine).astype('float32').values"
   ]
  },
  {
   "cell_type": "markdown",
   "id": "ca5bf0dd",
   "metadata": {},
   "source": [
    "Сохраним данные датафреймов в БД."
   ]
  },
  {
   "cell_type": "code",
   "execution_count": 36,
   "id": "e2a95dd1",
   "metadata": {
    "scrolled": true
   },
   "outputs": [
    {
     "data": {
      "text/plain": [
       "713"
      ]
     },
     "execution_count": 36,
     "metadata": {},
     "output_type": "execute_result"
    }
   ],
   "source": [
    "cities15000.to_sql(\n",
    "    'cities15000',\n",
    "    con=engine,\n",
    "    if_exists='replace',\n",
    "    index=False\n",
    ")\n",
    "countries.to_sql(\n",
    "    'countries', \n",
    "    con=engine,\n",
    "    if_exists='replace',\n",
    "    index=False\n",
    ")\n",
    "admin_codes.to_sql(\n",
    "    'admin_codes',\n",
    "    con=engine,\n",
    "    if_exists='replace',\n",
    "    index=False\n",
    ")\n",
    "selected_cities.to_sql(\n",
    "    'selected_cities', \n",
    "    con=engine, \n",
    "    if_exists='replace',\n",
    "    index=False\n",
    ")"
   ]
  },
  {
   "cell_type": "markdown",
   "id": "e9a5e13a",
   "metadata": {},
   "source": [
    "## Проверка модели"
   ]
  },
  {
   "cell_type": "markdown",
   "id": "946f2e87",
   "metadata": {},
   "source": [
    "Для проверки работоспособности модели возьмем искаженное название `Мгнитогрс` и вывведем данные.\n",
    "\n",
    "По заданию результат должен возвращаться как список словарей."
   ]
  },
  {
   "cell_type": "code",
   "execution_count": 39,
   "id": "dfda0244",
   "metadata": {},
   "outputs": [
    {
     "data": {
      "text/plain": [
       "[{'name': 'Magnitogorsk',\n",
       "  'code': 'RU.13',\n",
       "  'region': 'Chelyabinsk',\n",
       "  'country': 'Russia',\n",
       "  'similarity': 0.5652748346328735},\n",
       " {'name': 'Mednogorsk',\n",
       "  'code': 'RU.55',\n",
       "  'region': 'Orenburg Oblast',\n",
       "  'country': 'Russia',\n",
       "  'similarity': 0.4003976285457611},\n",
       " {'name': 'Dimitrovgrad',\n",
       "  'code': 'RU.81',\n",
       "  'region': 'Ulyanovsk',\n",
       "  'country': 'Russia',\n",
       "  'similarity': 0.3825973868370056},\n",
       " {'name': \"Mezgor'e\",\n",
       "  'code': 'RU.08',\n",
       "  'region': 'Bashkortostan Republic',\n",
       "  'country': 'Russia',\n",
       "  'similarity': 0.36654436588287354},\n",
       " {'name': 'Manturovo',\n",
       "  'code': 'RU.37',\n",
       "  'region': 'Kostroma Oblast',\n",
       "  'country': 'Russia',\n",
       "  'similarity': 0.36367714405059814}]"
      ]
     },
     "execution_count": 39,
     "metadata": {},
     "output_type": "execute_result"
    }
   ],
   "source": [
    "similar('Мгнитогрс', top_k=5, is_dictionary=True)"
   ]
  },
  {
   "cell_type": "markdown",
   "id": "b54a2751",
   "metadata": {},
   "source": [
    "Модель определила наиболее подходящие горрода `Магнитогорск` и `Медногорск`."
   ]
  },
  {
   "cell_type": "markdown",
   "id": "7be40a4d",
   "metadata": {},
   "source": [
    "## Вывод"
   ]
  },
  {
   "cell_type": "markdown",
   "id": "ff509684",
   "metadata": {},
   "source": [
    "Итак, имелась задачать построить модель для подбора наиболее подходящих унифицированных названий городов.\n",
    "\n",
    "1. Была проведена загрузка и исследвание данных с сайта `Geonames.org`\n",
    "\n",
    "Выборка состоит из следующих файлов:\n",
    "- admin1CodesASCII - административные коды городов\n",
    "- cities15000 - названия городов и их данные\n",
    "- countryInfo - коды стран\n",
    "\n",
    "На их основе получен общий датасет, в котором произведена выборка для России, Беларуси, Армении, Казахстана, Кыргызстана, Турции, Сербии.\n",
    "\n",
    "\n",
    "2. Для обучение выбрана модель LaBSE и обучена на разном количестве эпох (1, 3, 5, 7), которые загружются для проверки через SentenceTransformer.\n",
    "\n",
    "По результатам обучение получены следующие метрики:\n",
    "*   LaBSE-geonames-1e\t`0.8600`\n",
    "*\tLaBSE-geonames-3e\t`0.8333`\n",
    "*\tLaBSE-geonames-5e\t`0.7767`\n",
    "*\tLaBSE-geonames-7e\t`0.7767`\n",
    "\n",
    "Как видим лучшей оказалась модель, обученная на 1 эпохе.\n",
    "\n",
    "3. Проверка модели показала, что она достаточно хорошо определяет подходящие города.\n",
    "\n",
    "В качестве примера взято искаженное название `Мгнитогрс` и получены наиболее подходящие `Магнитогорск` и `Медногорск`."
   ]
  }
 ],
 "metadata": {
  "ExecuteTimeLog": [
   {
    "duration": 54,
    "start_time": "2023-11-03T12:07:32.973Z"
   },
   {
    "duration": 0,
    "start_time": "2023-11-03T12:07:33.029Z"
   },
   {
    "duration": 0,
    "start_time": "2023-11-03T12:07:33.030Z"
   },
   {
    "duration": 0,
    "start_time": "2023-11-03T12:07:33.032Z"
   },
   {
    "duration": 0,
    "start_time": "2023-11-03T12:07:33.033Z"
   },
   {
    "duration": 0,
    "start_time": "2023-11-03T12:07:33.034Z"
   },
   {
    "duration": 0,
    "start_time": "2023-11-03T12:07:33.035Z"
   },
   {
    "duration": 0,
    "start_time": "2023-11-03T12:07:33.036Z"
   },
   {
    "duration": 0,
    "start_time": "2023-11-03T12:07:33.037Z"
   },
   {
    "duration": 0,
    "start_time": "2023-11-03T12:07:33.038Z"
   },
   {
    "duration": 0,
    "start_time": "2023-11-03T12:07:33.039Z"
   },
   {
    "duration": 0,
    "start_time": "2023-11-03T12:07:33.041Z"
   },
   {
    "duration": 0,
    "start_time": "2023-11-03T12:07:33.042Z"
   },
   {
    "duration": 9,
    "start_time": "2023-11-03T12:07:33.045Z"
   },
   {
    "duration": 0,
    "start_time": "2023-11-03T12:07:33.056Z"
   },
   {
    "duration": 0,
    "start_time": "2023-11-03T12:07:33.057Z"
   },
   {
    "duration": 0,
    "start_time": "2023-11-03T12:07:33.058Z"
   },
   {
    "duration": 0,
    "start_time": "2023-11-03T12:07:33.059Z"
   },
   {
    "duration": 0,
    "start_time": "2023-11-03T12:07:33.061Z"
   },
   {
    "duration": 10,
    "start_time": "2023-11-03T12:07:33.121Z"
   },
   {
    "duration": 0,
    "start_time": "2023-11-03T12:07:33.134Z"
   },
   {
    "duration": 0,
    "start_time": "2023-11-03T12:07:33.135Z"
   },
   {
    "duration": 0,
    "start_time": "2023-11-03T12:07:33.136Z"
   },
   {
    "duration": 0,
    "start_time": "2023-11-03T12:07:33.137Z"
   },
   {
    "duration": 0,
    "start_time": "2023-11-03T12:07:33.138Z"
   },
   {
    "duration": 0,
    "start_time": "2023-11-03T12:07:33.139Z"
   },
   {
    "duration": 0,
    "start_time": "2023-11-03T12:07:33.141Z"
   },
   {
    "duration": 0,
    "start_time": "2023-11-03T12:07:33.142Z"
   },
   {
    "duration": 0,
    "start_time": "2023-11-03T12:07:33.143Z"
   },
   {
    "duration": 0,
    "start_time": "2023-11-03T12:07:33.144Z"
   },
   {
    "duration": 0,
    "start_time": "2023-11-03T12:07:33.145Z"
   },
   {
    "duration": 0,
    "start_time": "2023-11-03T12:07:33.146Z"
   },
   {
    "duration": 0,
    "start_time": "2023-11-03T12:07:33.147Z"
   },
   {
    "duration": 0,
    "start_time": "2023-11-03T12:07:33.148Z"
   },
   {
    "duration": 0,
    "start_time": "2023-11-03T12:07:33.149Z"
   },
   {
    "duration": 0,
    "start_time": "2023-11-03T12:07:33.151Z"
   },
   {
    "duration": 0,
    "start_time": "2023-11-03T12:07:33.151Z"
   },
   {
    "duration": 0,
    "start_time": "2023-11-03T12:07:33.152Z"
   },
   {
    "duration": 0,
    "start_time": "2023-11-03T12:07:33.153Z"
   },
   {
    "duration": 0,
    "start_time": "2023-11-03T12:07:33.154Z"
   },
   {
    "duration": 0,
    "start_time": "2023-11-03T12:07:33.155Z"
   },
   {
    "duration": 7,
    "start_time": "2023-11-03T12:07:33.214Z"
   },
   {
    "duration": 0,
    "start_time": "2023-11-03T12:07:33.222Z"
   },
   {
    "duration": 0,
    "start_time": "2023-11-03T12:07:33.224Z"
   },
   {
    "duration": 0,
    "start_time": "2023-11-03T12:07:33.225Z"
   },
   {
    "duration": 0,
    "start_time": "2023-11-03T12:07:33.226Z"
   },
   {
    "duration": 0,
    "start_time": "2023-11-03T12:07:33.227Z"
   },
   {
    "duration": 0,
    "start_time": "2023-11-03T12:07:33.228Z"
   },
   {
    "duration": 0,
    "start_time": "2023-11-03T12:07:33.229Z"
   },
   {
    "duration": 0,
    "start_time": "2023-11-03T12:07:33.230Z"
   },
   {
    "duration": 0,
    "start_time": "2023-11-03T12:07:33.231Z"
   },
   {
    "duration": 0,
    "start_time": "2023-11-03T12:07:33.232Z"
   },
   {
    "duration": 0,
    "start_time": "2023-11-03T12:07:33.233Z"
   },
   {
    "duration": 0,
    "start_time": "2023-11-03T12:07:33.234Z"
   },
   {
    "duration": 0,
    "start_time": "2023-11-03T12:07:33.235Z"
   },
   {
    "duration": 0,
    "start_time": "2023-11-03T12:07:33.236Z"
   },
   {
    "duration": 53,
    "start_time": "2023-11-03T12:08:26.549Z"
   },
   {
    "duration": 0,
    "start_time": "2023-11-03T12:08:26.604Z"
   },
   {
    "duration": 0,
    "start_time": "2023-11-03T12:08:26.605Z"
   },
   {
    "duration": 0,
    "start_time": "2023-11-03T12:08:26.606Z"
   },
   {
    "duration": 0,
    "start_time": "2023-11-03T12:08:26.607Z"
   },
   {
    "duration": 0,
    "start_time": "2023-11-03T12:08:26.608Z"
   },
   {
    "duration": 0,
    "start_time": "2023-11-03T12:08:26.609Z"
   },
   {
    "duration": 0,
    "start_time": "2023-11-03T12:08:26.610Z"
   },
   {
    "duration": 0,
    "start_time": "2023-11-03T12:08:26.611Z"
   },
   {
    "duration": 0,
    "start_time": "2023-11-03T12:08:26.612Z"
   },
   {
    "duration": 0,
    "start_time": "2023-11-03T12:08:26.613Z"
   },
   {
    "duration": 0,
    "start_time": "2023-11-03T12:08:26.614Z"
   },
   {
    "duration": 0,
    "start_time": "2023-11-03T12:08:26.615Z"
   },
   {
    "duration": 0,
    "start_time": "2023-11-03T12:08:26.616Z"
   },
   {
    "duration": 8,
    "start_time": "2023-11-03T12:08:26.618Z"
   },
   {
    "duration": 0,
    "start_time": "2023-11-03T12:08:26.628Z"
   },
   {
    "duration": 0,
    "start_time": "2023-11-03T12:08:26.630Z"
   },
   {
    "duration": 0,
    "start_time": "2023-11-03T12:08:26.630Z"
   },
   {
    "duration": 0,
    "start_time": "2023-11-03T12:08:26.632Z"
   },
   {
    "duration": 7,
    "start_time": "2023-11-03T12:08:26.667Z"
   },
   {
    "duration": 0,
    "start_time": "2023-11-03T12:08:26.676Z"
   },
   {
    "duration": 0,
    "start_time": "2023-11-03T12:08:26.678Z"
   },
   {
    "duration": 0,
    "start_time": "2023-11-03T12:08:26.679Z"
   },
   {
    "duration": 0,
    "start_time": "2023-11-03T12:08:26.680Z"
   },
   {
    "duration": 0,
    "start_time": "2023-11-03T12:08:26.715Z"
   },
   {
    "duration": 0,
    "start_time": "2023-11-03T12:08:26.717Z"
   },
   {
    "duration": 0,
    "start_time": "2023-11-03T12:08:26.718Z"
   },
   {
    "duration": 0,
    "start_time": "2023-11-03T12:08:26.720Z"
   },
   {
    "duration": 0,
    "start_time": "2023-11-03T12:08:26.722Z"
   },
   {
    "duration": 0,
    "start_time": "2023-11-03T12:08:26.723Z"
   },
   {
    "duration": 0,
    "start_time": "2023-11-03T12:08:26.724Z"
   },
   {
    "duration": 0,
    "start_time": "2023-11-03T12:08:26.726Z"
   },
   {
    "duration": 0,
    "start_time": "2023-11-03T12:08:26.727Z"
   },
   {
    "duration": 0,
    "start_time": "2023-11-03T12:08:26.728Z"
   },
   {
    "duration": 0,
    "start_time": "2023-11-03T12:08:26.730Z"
   },
   {
    "duration": 9,
    "start_time": "2023-11-03T12:08:26.734Z"
   },
   {
    "duration": 0,
    "start_time": "2023-11-03T12:08:26.745Z"
   },
   {
    "duration": 0,
    "start_time": "2023-11-03T12:08:26.746Z"
   },
   {
    "duration": 0,
    "start_time": "2023-11-03T12:08:26.748Z"
   },
   {
    "duration": 0,
    "start_time": "2023-11-03T12:08:26.749Z"
   },
   {
    "duration": 0,
    "start_time": "2023-11-03T12:08:26.751Z"
   },
   {
    "duration": 0,
    "start_time": "2023-11-03T12:08:26.752Z"
   },
   {
    "duration": 0,
    "start_time": "2023-11-03T12:08:26.753Z"
   },
   {
    "duration": 0,
    "start_time": "2023-11-03T12:08:26.755Z"
   },
   {
    "duration": 0,
    "start_time": "2023-11-03T12:08:26.814Z"
   },
   {
    "duration": 0,
    "start_time": "2023-11-03T12:08:26.816Z"
   },
   {
    "duration": 0,
    "start_time": "2023-11-03T12:08:26.818Z"
   },
   {
    "duration": 0,
    "start_time": "2023-11-03T12:08:26.819Z"
   },
   {
    "duration": 0,
    "start_time": "2023-11-03T12:08:26.821Z"
   },
   {
    "duration": 0,
    "start_time": "2023-11-03T12:08:26.822Z"
   },
   {
    "duration": 0,
    "start_time": "2023-11-03T12:08:26.823Z"
   },
   {
    "duration": 0,
    "start_time": "2023-11-03T12:08:26.824Z"
   },
   {
    "duration": 10,
    "start_time": "2023-11-03T12:08:26.829Z"
   },
   {
    "duration": 0,
    "start_time": "2023-11-03T12:08:26.841Z"
   },
   {
    "duration": 0,
    "start_time": "2023-11-03T12:08:26.843Z"
   },
   {
    "duration": 0,
    "start_time": "2023-11-03T12:08:26.844Z"
   },
   {
    "duration": 3532,
    "start_time": "2023-11-03T12:09:51.973Z"
   },
   {
    "duration": 3,
    "start_time": "2023-11-03T12:10:05.668Z"
   },
   {
    "duration": 3,
    "start_time": "2023-11-03T12:10:12.144Z"
   },
   {
    "duration": 2209,
    "start_time": "2023-11-03T12:10:12.149Z"
   },
   {
    "duration": 0,
    "start_time": "2023-11-03T12:10:14.362Z"
   },
   {
    "duration": 0,
    "start_time": "2023-11-03T12:10:14.364Z"
   },
   {
    "duration": 0,
    "start_time": "2023-11-03T12:10:14.365Z"
   },
   {
    "duration": 0,
    "start_time": "2023-11-03T12:10:14.366Z"
   },
   {
    "duration": 0,
    "start_time": "2023-11-03T12:10:14.368Z"
   },
   {
    "duration": 0,
    "start_time": "2023-11-03T12:10:14.369Z"
   },
   {
    "duration": 0,
    "start_time": "2023-11-03T12:10:14.370Z"
   },
   {
    "duration": 0,
    "start_time": "2023-11-03T12:10:14.371Z"
   },
   {
    "duration": 0,
    "start_time": "2023-11-03T12:10:14.372Z"
   },
   {
    "duration": 0,
    "start_time": "2023-11-03T12:10:14.373Z"
   },
   {
    "duration": 0,
    "start_time": "2023-11-03T12:10:14.375Z"
   },
   {
    "duration": 0,
    "start_time": "2023-11-03T12:10:14.376Z"
   },
   {
    "duration": 0,
    "start_time": "2023-11-03T12:10:14.376Z"
   },
   {
    "duration": 0,
    "start_time": "2023-11-03T12:10:14.378Z"
   },
   {
    "duration": 0,
    "start_time": "2023-11-03T12:10:14.379Z"
   },
   {
    "duration": 0,
    "start_time": "2023-11-03T12:10:14.380Z"
   },
   {
    "duration": 0,
    "start_time": "2023-11-03T12:10:14.415Z"
   },
   {
    "duration": 0,
    "start_time": "2023-11-03T12:10:14.416Z"
   },
   {
    "duration": 0,
    "start_time": "2023-11-03T12:10:14.417Z"
   },
   {
    "duration": 0,
    "start_time": "2023-11-03T12:10:14.418Z"
   },
   {
    "duration": 0,
    "start_time": "2023-11-03T12:10:14.419Z"
   },
   {
    "duration": 0,
    "start_time": "2023-11-03T12:10:14.421Z"
   },
   {
    "duration": 0,
    "start_time": "2023-11-03T12:10:14.422Z"
   },
   {
    "duration": 0,
    "start_time": "2023-11-03T12:10:14.423Z"
   },
   {
    "duration": 0,
    "start_time": "2023-11-03T12:10:14.424Z"
   },
   {
    "duration": 0,
    "start_time": "2023-11-03T12:10:14.425Z"
   },
   {
    "duration": 0,
    "start_time": "2023-11-03T12:10:14.426Z"
   },
   {
    "duration": 0,
    "start_time": "2023-11-03T12:10:14.427Z"
   },
   {
    "duration": 0,
    "start_time": "2023-11-03T12:10:14.429Z"
   },
   {
    "duration": 0,
    "start_time": "2023-11-03T12:10:14.430Z"
   },
   {
    "duration": 0,
    "start_time": "2023-11-03T12:10:14.431Z"
   },
   {
    "duration": 0,
    "start_time": "2023-11-03T12:10:14.433Z"
   },
   {
    "duration": 0,
    "start_time": "2023-11-03T12:10:14.433Z"
   },
   {
    "duration": 0,
    "start_time": "2023-11-03T12:10:14.435Z"
   },
   {
    "duration": 0,
    "start_time": "2023-11-03T12:10:14.436Z"
   },
   {
    "duration": 0,
    "start_time": "2023-11-03T12:10:14.437Z"
   },
   {
    "duration": 0,
    "start_time": "2023-11-03T12:10:14.438Z"
   },
   {
    "duration": 0,
    "start_time": "2023-11-03T12:10:14.439Z"
   },
   {
    "duration": 0,
    "start_time": "2023-11-03T12:10:14.440Z"
   },
   {
    "duration": 0,
    "start_time": "2023-11-03T12:10:14.441Z"
   },
   {
    "duration": 0,
    "start_time": "2023-11-03T12:10:14.442Z"
   },
   {
    "duration": 0,
    "start_time": "2023-11-03T12:10:14.444Z"
   },
   {
    "duration": 0,
    "start_time": "2023-11-03T12:10:14.445Z"
   },
   {
    "duration": 0,
    "start_time": "2023-11-03T12:10:14.446Z"
   },
   {
    "duration": 0,
    "start_time": "2023-11-03T12:10:14.447Z"
   },
   {
    "duration": 0,
    "start_time": "2023-11-03T12:10:14.448Z"
   },
   {
    "duration": 0,
    "start_time": "2023-11-03T12:10:14.449Z"
   },
   {
    "duration": 0,
    "start_time": "2023-11-03T12:10:14.450Z"
   },
   {
    "duration": 0,
    "start_time": "2023-11-03T12:10:14.515Z"
   },
   {
    "duration": 0,
    "start_time": "2023-11-03T12:10:14.516Z"
   },
   {
    "duration": 0,
    "start_time": "2023-11-03T12:10:14.517Z"
   },
   {
    "duration": 0,
    "start_time": "2023-11-03T12:10:14.518Z"
   },
   {
    "duration": 0,
    "start_time": "2023-11-03T12:10:14.519Z"
   },
   {
    "duration": 0,
    "start_time": "2023-11-03T12:10:14.520Z"
   },
   {
    "duration": 0,
    "start_time": "2023-11-03T12:10:14.521Z"
   },
   {
    "duration": 4220,
    "start_time": "2023-11-03T12:10:38.940Z"
   },
   {
    "duration": 3,
    "start_time": "2023-11-03T12:10:53.138Z"
   },
   {
    "duration": 3488,
    "start_time": "2023-11-03T12:10:55.764Z"
   },
   {
    "duration": 4,
    "start_time": "2023-11-03T12:11:11.270Z"
   },
   {
    "duration": 2719,
    "start_time": "2023-11-03T12:11:11.276Z"
   },
   {
    "duration": 19,
    "start_time": "2023-11-03T12:11:13.998Z"
   },
   {
    "duration": 11,
    "start_time": "2023-11-03T12:11:14.019Z"
   },
   {
    "duration": 43,
    "start_time": "2023-11-03T12:11:14.032Z"
   },
   {
    "duration": 23,
    "start_time": "2023-11-03T12:11:14.076Z"
   },
   {
    "duration": 750,
    "start_time": "2023-11-03T12:11:14.101Z"
   },
   {
    "duration": 218,
    "start_time": "2023-11-03T12:11:14.853Z"
   },
   {
    "duration": 194,
    "start_time": "2023-11-03T12:11:15.073Z"
   },
   {
    "duration": 188,
    "start_time": "2023-11-03T12:11:15.269Z"
   },
   {
    "duration": 217,
    "start_time": "2023-11-03T12:11:15.460Z"
   },
   {
    "duration": 7,
    "start_time": "2023-11-03T12:11:15.679Z"
   },
   {
    "duration": 27,
    "start_time": "2023-11-03T12:11:15.688Z"
   },
   {
    "duration": 37,
    "start_time": "2023-11-03T12:11:15.717Z"
   },
   {
    "duration": 25,
    "start_time": "2023-11-03T12:11:15.756Z"
   },
   {
    "duration": 205,
    "start_time": "2023-11-03T12:11:15.783Z"
   },
   {
    "duration": 27,
    "start_time": "2023-11-03T12:11:15.989Z"
   },
   {
    "duration": 252,
    "start_time": "2023-11-03T12:11:16.017Z"
   },
   {
    "duration": 29,
    "start_time": "2023-11-03T12:11:16.271Z"
   },
   {
    "duration": 17,
    "start_time": "2023-11-03T12:11:16.302Z"
   },
   {
    "duration": 5441,
    "start_time": "2023-11-03T12:11:16.320Z"
   },
   {
    "duration": 397,
    "start_time": "2023-11-03T12:11:21.763Z"
   },
   {
    "duration": 679,
    "start_time": "2023-11-03T12:11:22.161Z"
   },
   {
    "duration": 603,
    "start_time": "2023-11-03T12:11:22.842Z"
   },
   {
    "duration": 305,
    "start_time": "2023-11-03T12:11:23.447Z"
   },
   {
    "duration": 871,
    "start_time": "2023-11-03T12:11:23.754Z"
   },
   {
    "duration": 5,
    "start_time": "2023-11-03T12:11:24.627Z"
   },
   {
    "duration": 10,
    "start_time": "2023-11-03T12:11:24.634Z"
   },
   {
    "duration": 3,
    "start_time": "2023-11-03T12:11:24.649Z"
   },
   {
    "duration": 5,
    "start_time": "2023-11-03T12:11:24.654Z"
   },
   {
    "duration": 11,
    "start_time": "2023-11-03T12:11:24.660Z"
   },
   {
    "duration": 8,
    "start_time": "2023-11-03T12:11:24.673Z"
   },
   {
    "duration": 33,
    "start_time": "2023-11-03T12:11:24.683Z"
   },
   {
    "duration": 7,
    "start_time": "2023-11-03T12:11:24.718Z"
   },
   {
    "duration": 22,
    "start_time": "2023-11-03T12:11:24.726Z"
   },
   {
    "duration": 28525,
    "start_time": "2023-11-03T12:11:24.749Z"
   },
   {
    "duration": 4,
    "start_time": "2023-11-03T12:11:53.276Z"
   },
   {
    "duration": 34,
    "start_time": "2023-11-03T12:11:53.281Z"
   },
   {
    "duration": 24,
    "start_time": "2023-11-03T12:11:53.316Z"
   },
   {
    "duration": 13,
    "start_time": "2023-11-03T12:11:53.342Z"
   },
   {
    "duration": 23,
    "start_time": "2023-11-03T12:11:53.357Z"
   },
   {
    "duration": 37976,
    "start_time": "2023-11-03T12:11:53.382Z"
   },
   {
    "duration": 3,
    "start_time": "2023-11-03T12:12:31.360Z"
   },
   {
    "duration": 134,
    "start_time": "2023-11-03T12:12:31.365Z"
   },
   {
    "duration": 121,
    "start_time": "2023-11-03T12:12:31.501Z"
   },
   {
    "duration": 170497,
    "start_time": "2023-11-03T12:12:31.624Z"
   },
   {
    "duration": 3,
    "start_time": "2023-11-03T12:15:22.123Z"
   },
   {
    "duration": 17,
    "start_time": "2023-11-03T12:15:22.128Z"
   },
   {
    "duration": 17,
    "start_time": "2023-11-03T12:15:22.146Z"
   },
   {
    "duration": 20,
    "start_time": "2023-11-03T12:15:22.165Z"
   },
   {
    "duration": 15,
    "start_time": "2023-11-03T12:15:22.186Z"
   },
   {
    "duration": 211,
    "start_time": "2023-11-03T12:15:22.202Z"
   },
   {
    "duration": 580,
    "start_time": "2023-11-03T12:15:22.415Z"
   },
   {
    "duration": 34,
    "start_time": "2023-11-03T12:15:22.996Z"
   },
   {
    "duration": 10,
    "start_time": "2023-11-03T12:15:23.031Z"
   },
   {
    "duration": 619,
    "start_time": "2023-11-03T12:15:23.043Z"
   },
   {
    "duration": 11889,
    "start_time": "2023-11-03T12:15:23.664Z"
   },
   {
    "duration": 2641,
    "start_time": "2023-11-03T12:24:02.600Z"
   },
   {
    "duration": 15,
    "start_time": "2023-11-03T12:24:05.243Z"
   },
   {
    "duration": 31,
    "start_time": "2023-11-03T12:24:05.260Z"
   },
   {
    "duration": 24,
    "start_time": "2023-11-03T12:24:05.294Z"
   },
   {
    "duration": 36,
    "start_time": "2023-11-03T12:24:05.319Z"
   },
   {
    "duration": 495,
    "start_time": "2023-11-03T12:24:05.357Z"
   },
   {
    "duration": 369,
    "start_time": "2023-11-03T12:24:05.854Z"
   },
   {
    "duration": 243,
    "start_time": "2023-11-03T12:24:06.225Z"
   },
   {
    "duration": 198,
    "start_time": "2023-11-03T12:24:06.470Z"
   },
   {
    "duration": 226,
    "start_time": "2023-11-03T12:24:06.672Z"
   },
   {
    "duration": 8,
    "start_time": "2023-11-03T12:24:06.900Z"
   },
   {
    "duration": 26,
    "start_time": "2023-11-03T12:24:06.909Z"
   },
   {
    "duration": 24,
    "start_time": "2023-11-03T12:24:06.937Z"
   },
   {
    "duration": 5,
    "start_time": "2023-11-03T12:24:06.962Z"
   },
   {
    "duration": 200,
    "start_time": "2023-11-03T12:24:06.969Z"
   },
   {
    "duration": 25,
    "start_time": "2023-11-03T12:24:07.171Z"
   },
   {
    "duration": 312,
    "start_time": "2023-11-03T12:24:07.198Z"
   },
   {
    "duration": 38,
    "start_time": "2023-11-03T12:24:07.513Z"
   },
   {
    "duration": 32,
    "start_time": "2023-11-03T12:24:07.553Z"
   },
   {
    "duration": 5302,
    "start_time": "2023-11-03T12:24:07.587Z"
   },
   {
    "duration": 433,
    "start_time": "2023-11-03T12:24:12.891Z"
   },
   {
    "duration": 640,
    "start_time": "2023-11-03T12:24:13.326Z"
   },
   {
    "duration": 502,
    "start_time": "2023-11-03T12:24:13.968Z"
   },
   {
    "duration": 281,
    "start_time": "2023-11-03T12:24:14.472Z"
   },
   {
    "duration": 928,
    "start_time": "2023-11-03T12:24:14.755Z"
   },
   {
    "duration": 6,
    "start_time": "2023-11-03T12:24:15.685Z"
   },
   {
    "duration": 24,
    "start_time": "2023-11-03T12:24:15.692Z"
   },
   {
    "duration": 3,
    "start_time": "2023-11-03T12:24:15.721Z"
   },
   {
    "duration": 8,
    "start_time": "2023-11-03T12:24:15.726Z"
   },
   {
    "duration": 9,
    "start_time": "2023-11-03T12:24:15.736Z"
   },
   {
    "duration": 14,
    "start_time": "2023-11-03T12:24:15.746Z"
   },
   {
    "duration": 19,
    "start_time": "2023-11-03T12:24:15.762Z"
   },
   {
    "duration": 13,
    "start_time": "2023-11-03T12:24:15.783Z"
   },
   {
    "duration": 24,
    "start_time": "2023-11-03T12:24:15.798Z"
   },
   {
    "duration": 68,
    "start_time": "2023-11-03T12:24:15.824Z"
   },
   {
    "duration": 4,
    "start_time": "2023-11-03T12:24:15.894Z"
   },
   {
    "duration": 7,
    "start_time": "2023-11-03T12:24:15.900Z"
   },
   {
    "duration": 7,
    "start_time": "2023-11-03T12:24:15.909Z"
   },
   {
    "duration": 15,
    "start_time": "2023-11-03T12:24:15.918Z"
   },
   {
    "duration": 17,
    "start_time": "2023-11-03T12:24:15.935Z"
   },
   {
    "duration": 120,
    "start_time": "2023-11-03T12:24:15.953Z"
   },
   {
    "duration": 4,
    "start_time": "2023-11-03T12:24:16.075Z"
   },
   {
    "duration": 22,
    "start_time": "2023-11-03T12:24:16.080Z"
   },
   {
    "duration": 39,
    "start_time": "2023-11-03T12:24:16.104Z"
   },
   {
    "duration": 87,
    "start_time": "2023-11-03T12:24:16.145Z"
   },
   {
    "duration": 4,
    "start_time": "2023-11-03T12:24:16.234Z"
   },
   {
    "duration": 12,
    "start_time": "2023-11-03T12:24:16.240Z"
   },
   {
    "duration": 23,
    "start_time": "2023-11-03T12:24:16.254Z"
   },
   {
    "duration": 19,
    "start_time": "2023-11-03T12:24:16.279Z"
   },
   {
    "duration": 14,
    "start_time": "2023-11-03T12:24:16.300Z"
   },
   {
    "duration": 221,
    "start_time": "2023-11-03T12:24:16.316Z"
   },
   {
    "duration": 538,
    "start_time": "2023-11-03T12:24:16.539Z"
   },
   {
    "duration": 39,
    "start_time": "2023-11-03T12:24:17.078Z"
   },
   {
    "duration": 3,
    "start_time": "2023-11-03T12:24:17.118Z"
   },
   {
    "duration": 575,
    "start_time": "2023-11-03T12:24:17.122Z"
   },
   {
    "duration": 11782,
    "start_time": "2023-11-03T12:24:17.699Z"
   },
   {
    "duration": 2652,
    "start_time": "2023-11-03T12:25:42.376Z"
   },
   {
    "duration": 16,
    "start_time": "2023-11-03T12:25:45.030Z"
   },
   {
    "duration": 25,
    "start_time": "2023-11-03T12:25:45.048Z"
   },
   {
    "duration": 27,
    "start_time": "2023-11-03T12:25:45.075Z"
   },
   {
    "duration": 21,
    "start_time": "2023-11-03T12:25:45.104Z"
   },
   {
    "duration": 602,
    "start_time": "2023-11-03T12:25:45.127Z"
   },
   {
    "duration": 278,
    "start_time": "2023-11-03T12:25:45.731Z"
   },
   {
    "duration": 273,
    "start_time": "2023-11-03T12:25:46.010Z"
   },
   {
    "duration": 170,
    "start_time": "2023-11-03T12:25:46.285Z"
   },
   {
    "duration": 211,
    "start_time": "2023-11-03T12:25:46.457Z"
   },
   {
    "duration": 7,
    "start_time": "2023-11-03T12:25:46.670Z"
   },
   {
    "duration": 14,
    "start_time": "2023-11-03T12:25:46.678Z"
   },
   {
    "duration": 13,
    "start_time": "2023-11-03T12:25:46.693Z"
   },
   {
    "duration": 10,
    "start_time": "2023-11-03T12:25:46.708Z"
   },
   {
    "duration": 212,
    "start_time": "2023-11-03T12:25:46.719Z"
   },
   {
    "duration": 27,
    "start_time": "2023-11-03T12:25:46.933Z"
   },
   {
    "duration": 345,
    "start_time": "2023-11-03T12:25:46.962Z"
   },
   {
    "duration": 29,
    "start_time": "2023-11-03T12:25:47.309Z"
   },
   {
    "duration": 3,
    "start_time": "2023-11-03T12:25:47.339Z"
   },
   {
    "duration": 5302,
    "start_time": "2023-11-03T12:25:47.343Z"
   },
   {
    "duration": 373,
    "start_time": "2023-11-03T12:25:52.648Z"
   },
   {
    "duration": 609,
    "start_time": "2023-11-03T12:25:53.023Z"
   },
   {
    "duration": 528,
    "start_time": "2023-11-03T12:25:53.634Z"
   },
   {
    "duration": 289,
    "start_time": "2023-11-03T12:25:54.163Z"
   },
   {
    "duration": 849,
    "start_time": "2023-11-03T12:25:54.453Z"
   },
   {
    "duration": 4,
    "start_time": "2023-11-03T12:25:55.304Z"
   },
   {
    "duration": 54,
    "start_time": "2023-11-03T12:25:55.314Z"
   },
   {
    "duration": 22,
    "start_time": "2023-11-03T12:25:55.372Z"
   },
   {
    "duration": 33,
    "start_time": "2023-11-03T12:25:55.395Z"
   },
   {
    "duration": 32,
    "start_time": "2023-11-03T12:25:55.430Z"
   },
   {
    "duration": 43,
    "start_time": "2023-11-03T12:25:55.464Z"
   },
   {
    "duration": 49,
    "start_time": "2023-11-03T12:25:55.509Z"
   },
   {
    "duration": 46,
    "start_time": "2023-11-03T12:25:55.560Z"
   },
   {
    "duration": 76,
    "start_time": "2023-11-03T12:25:55.607Z"
   },
   {
    "duration": 26259,
    "start_time": "2023-11-03T12:25:55.685Z"
   },
   {
    "duration": 3,
    "start_time": "2023-11-03T12:26:21.946Z"
   },
   {
    "duration": 11,
    "start_time": "2023-11-03T12:26:21.951Z"
   },
   {
    "duration": 13,
    "start_time": "2023-11-03T12:26:21.964Z"
   },
   {
    "duration": 8,
    "start_time": "2023-11-03T12:26:21.978Z"
   },
   {
    "duration": 19,
    "start_time": "2023-11-03T12:26:21.988Z"
   },
   {
    "duration": 36397,
    "start_time": "2023-11-03T12:26:22.009Z"
   },
   {
    "duration": 4,
    "start_time": "2023-11-03T12:26:58.408Z"
   },
   {
    "duration": 6,
    "start_time": "2023-11-03T12:26:58.414Z"
   },
   {
    "duration": 43,
    "start_time": "2023-11-03T12:26:58.423Z"
   },
   {
    "duration": 168251,
    "start_time": "2023-11-03T12:26:58.468Z"
   },
   {
    "duration": 3,
    "start_time": "2023-11-03T12:29:46.721Z"
   },
   {
    "duration": 29,
    "start_time": "2023-11-03T12:29:46.726Z"
   },
   {
    "duration": 29,
    "start_time": "2023-11-03T12:29:46.756Z"
   },
   {
    "duration": 36,
    "start_time": "2023-11-03T12:29:46.787Z"
   },
   {
    "duration": 25,
    "start_time": "2023-11-03T12:29:46.825Z"
   },
   {
    "duration": 211,
    "start_time": "2023-11-03T12:29:46.852Z"
   },
   {
    "duration": 599,
    "start_time": "2023-11-03T12:29:47.065Z"
   },
   {
    "duration": 28,
    "start_time": "2023-11-03T12:29:47.665Z"
   },
   {
    "duration": 17,
    "start_time": "2023-11-03T12:29:47.694Z"
   },
   {
    "duration": 620,
    "start_time": "2023-11-03T12:29:47.713Z"
   },
   {
    "duration": 11861,
    "start_time": "2023-11-03T12:29:48.336Z"
   },
   {
    "duration": 102,
    "start_time": "2023-11-04T11:08:48.775Z"
   },
   {
    "duration": 2558,
    "start_time": "2023-11-05T22:34:03.078Z"
   },
   {
    "duration": 16,
    "start_time": "2023-11-05T22:34:05.638Z"
   },
   {
    "duration": 47,
    "start_time": "2023-11-05T22:34:05.655Z"
   },
   {
    "duration": 40,
    "start_time": "2023-11-05T22:34:05.704Z"
   },
   {
    "duration": 24,
    "start_time": "2023-11-05T22:34:05.746Z"
   },
   {
    "duration": 14,
    "start_time": "2023-11-05T22:34:05.772Z"
   },
   {
    "duration": 6,
    "start_time": "2023-11-05T22:34:05.787Z"
   },
   {
    "duration": 505,
    "start_time": "2023-11-05T22:34:05.794Z"
   },
   {
    "duration": 189,
    "start_time": "2023-11-05T22:34:06.300Z"
   },
   {
    "duration": 201,
    "start_time": "2023-11-05T22:34:06.491Z"
   },
   {
    "duration": 175,
    "start_time": "2023-11-05T22:34:06.694Z"
   },
   {
    "duration": 201,
    "start_time": "2023-11-05T22:34:06.870Z"
   },
   {
    "duration": 6,
    "start_time": "2023-11-05T22:34:07.073Z"
   },
   {
    "duration": 16,
    "start_time": "2023-11-05T22:34:07.081Z"
   },
   {
    "duration": 3,
    "start_time": "2023-11-05T22:34:07.099Z"
   },
   {
    "duration": 4,
    "start_time": "2023-11-05T22:34:07.104Z"
   },
   {
    "duration": 8,
    "start_time": "2023-11-05T22:34:07.109Z"
   },
   {
    "duration": 12,
    "start_time": "2023-11-05T22:34:07.118Z"
   },
   {
    "duration": 4,
    "start_time": "2023-11-05T22:34:07.132Z"
   },
   {
    "duration": 174,
    "start_time": "2023-11-05T22:34:07.138Z"
   },
   {
    "duration": 24,
    "start_time": "2023-11-05T22:34:07.314Z"
   },
   {
    "duration": 254,
    "start_time": "2023-11-05T22:34:07.340Z"
   },
   {
    "duration": 25,
    "start_time": "2023-11-05T22:34:07.596Z"
   },
   {
    "duration": 2,
    "start_time": "2023-11-05T22:34:07.623Z"
   },
   {
    "duration": 5310,
    "start_time": "2023-11-05T22:34:07.627Z"
   },
   {
    "duration": 341,
    "start_time": "2023-11-05T22:34:12.939Z"
   },
   {
    "duration": 612,
    "start_time": "2023-11-05T22:34:13.282Z"
   },
   {
    "duration": 530,
    "start_time": "2023-11-05T22:34:13.900Z"
   },
   {
    "duration": 352,
    "start_time": "2023-11-05T22:34:14.432Z"
   },
   {
    "duration": 342,
    "start_time": "2023-11-05T22:34:14.786Z"
   },
   {
    "duration": 381,
    "start_time": "2023-11-05T22:34:15.130Z"
   },
   {
    "duration": 177,
    "start_time": "2023-11-05T22:34:15.512Z"
   },
   {
    "duration": 167,
    "start_time": "2023-11-05T22:34:15.691Z"
   },
   {
    "duration": 5,
    "start_time": "2023-11-05T22:34:15.859Z"
   },
   {
    "duration": 29,
    "start_time": "2023-11-05T22:34:15.865Z"
   },
   {
    "duration": 5,
    "start_time": "2023-11-05T22:34:15.895Z"
   },
   {
    "duration": 40,
    "start_time": "2023-11-05T22:34:15.901Z"
   },
   {
    "duration": 25,
    "start_time": "2023-11-05T22:34:15.942Z"
   },
   {
    "duration": 32,
    "start_time": "2023-11-05T22:34:15.968Z"
   },
   {
    "duration": 29,
    "start_time": "2023-11-05T22:34:16.001Z"
   },
   {
    "duration": 24,
    "start_time": "2023-11-05T22:34:16.032Z"
   },
   {
    "duration": 38,
    "start_time": "2023-11-05T22:34:16.057Z"
   },
   {
    "duration": 40920,
    "start_time": "2023-11-05T22:34:16.096Z"
   },
   {
    "duration": 4,
    "start_time": "2023-11-05T22:34:57.017Z"
   },
   {
    "duration": 16,
    "start_time": "2023-11-05T22:34:57.022Z"
   },
   {
    "duration": 8,
    "start_time": "2023-11-05T22:34:57.039Z"
   },
   {
    "duration": 5,
    "start_time": "2023-11-05T22:34:57.048Z"
   },
   {
    "duration": 14,
    "start_time": "2023-11-05T22:34:57.054Z"
   },
   {
    "duration": 30393,
    "start_time": "2023-11-05T22:34:57.070Z"
   },
   {
    "duration": 4,
    "start_time": "2023-11-05T22:35:27.465Z"
   },
   {
    "duration": 11,
    "start_time": "2023-11-05T22:35:27.471Z"
   },
   {
    "duration": 25,
    "start_time": "2023-11-05T22:35:27.484Z"
   },
   {
    "duration": 143930,
    "start_time": "2023-11-05T22:35:27.511Z"
   },
   {
    "duration": 3,
    "start_time": "2023-11-05T22:37:51.443Z"
   },
   {
    "duration": 18,
    "start_time": "2023-11-05T22:37:51.448Z"
   },
   {
    "duration": 5,
    "start_time": "2023-11-05T22:37:51.468Z"
   },
   {
    "duration": 12,
    "start_time": "2023-11-05T22:37:51.474Z"
   },
   {
    "duration": 15,
    "start_time": "2023-11-05T22:37:51.487Z"
   },
   {
    "duration": 19,
    "start_time": "2023-11-05T22:37:51.504Z"
   },
   {
    "duration": 185,
    "start_time": "2023-11-05T22:37:51.525Z"
   },
   {
    "duration": 545,
    "start_time": "2023-11-05T22:37:51.712Z"
   },
   {
    "duration": 24,
    "start_time": "2023-11-05T22:37:52.259Z"
   },
   {
    "duration": 2,
    "start_time": "2023-11-05T22:37:52.285Z"
   },
   {
    "duration": 517,
    "start_time": "2023-11-05T22:37:52.289Z"
   },
   {
    "duration": 11107,
    "start_time": "2023-11-05T22:37:52.807Z"
   },
   {
    "duration": 2344,
    "start_time": "2023-11-05T22:48:48.394Z"
   },
   {
    "duration": 15,
    "start_time": "2023-11-05T22:48:50.740Z"
   },
   {
    "duration": 10,
    "start_time": "2023-11-05T22:48:50.757Z"
   },
   {
    "duration": 5,
    "start_time": "2023-11-05T22:48:50.769Z"
   },
   {
    "duration": 6,
    "start_time": "2023-11-05T22:48:50.775Z"
   },
   {
    "duration": 7,
    "start_time": "2023-11-05T22:48:50.782Z"
   },
   {
    "duration": 24,
    "start_time": "2023-11-05T22:48:50.790Z"
   },
   {
    "duration": 378,
    "start_time": "2023-11-05T22:48:50.816Z"
   },
   {
    "duration": 159,
    "start_time": "2023-11-05T22:48:51.196Z"
   },
   {
    "duration": 146,
    "start_time": "2023-11-05T22:48:51.358Z"
   },
   {
    "duration": 142,
    "start_time": "2023-11-05T22:48:51.505Z"
   },
   {
    "duration": 133,
    "start_time": "2023-11-05T22:48:51.648Z"
   },
   {
    "duration": 6,
    "start_time": "2023-11-05T22:48:51.782Z"
   },
   {
    "duration": 15,
    "start_time": "2023-11-05T22:48:51.789Z"
   },
   {
    "duration": 3,
    "start_time": "2023-11-05T22:48:51.805Z"
   },
   {
    "duration": 9,
    "start_time": "2023-11-05T22:48:51.809Z"
   },
   {
    "duration": 8,
    "start_time": "2023-11-05T22:48:51.819Z"
   },
   {
    "duration": 14,
    "start_time": "2023-11-05T22:48:51.828Z"
   },
   {
    "duration": 14,
    "start_time": "2023-11-05T22:48:51.844Z"
   },
   {
    "duration": 147,
    "start_time": "2023-11-05T22:48:51.859Z"
   },
   {
    "duration": 21,
    "start_time": "2023-11-05T22:48:52.008Z"
   },
   {
    "duration": 187,
    "start_time": "2023-11-05T22:48:52.030Z"
   },
   {
    "duration": 24,
    "start_time": "2023-11-05T22:48:52.219Z"
   },
   {
    "duration": 2,
    "start_time": "2023-11-05T22:48:52.245Z"
   },
   {
    "duration": 4636,
    "start_time": "2023-11-05T22:48:52.249Z"
   },
   {
    "duration": 344,
    "start_time": "2023-11-05T22:48:56.887Z"
   },
   {
    "duration": 567,
    "start_time": "2023-11-05T22:48:57.233Z"
   },
   {
    "duration": 527,
    "start_time": "2023-11-05T22:48:57.804Z"
   },
   {
    "duration": 345,
    "start_time": "2023-11-05T22:48:58.333Z"
   },
   {
    "duration": 262,
    "start_time": "2023-11-05T22:48:58.679Z"
   },
   {
    "duration": 395,
    "start_time": "2023-11-05T22:48:58.942Z"
   },
   {
    "duration": 167,
    "start_time": "2023-11-05T22:48:59.339Z"
   },
   {
    "duration": 166,
    "start_time": "2023-11-05T22:48:59.507Z"
   },
   {
    "duration": 4,
    "start_time": "2023-11-05T22:48:59.674Z"
   },
   {
    "duration": 9,
    "start_time": "2023-11-05T22:48:59.679Z"
   },
   {
    "duration": 3,
    "start_time": "2023-11-05T22:48:59.689Z"
   },
   {
    "duration": 21,
    "start_time": "2023-11-05T22:48:59.693Z"
   },
   {
    "duration": 11,
    "start_time": "2023-11-05T22:48:59.716Z"
   },
   {
    "duration": 5,
    "start_time": "2023-11-05T22:48:59.729Z"
   },
   {
    "duration": 3,
    "start_time": "2023-11-05T22:48:59.735Z"
   },
   {
    "duration": 7,
    "start_time": "2023-11-05T22:48:59.740Z"
   },
   {
    "duration": 14,
    "start_time": "2023-11-05T22:48:59.749Z"
   },
   {
    "duration": 41450,
    "start_time": "2023-11-05T22:48:59.765Z"
   },
   {
    "duration": 4,
    "start_time": "2023-11-05T22:49:41.217Z"
   },
   {
    "duration": 5,
    "start_time": "2023-11-05T22:49:41.222Z"
   },
   {
    "duration": 5,
    "start_time": "2023-11-05T22:49:41.228Z"
   },
   {
    "duration": 6,
    "start_time": "2023-11-05T22:49:41.234Z"
   },
   {
    "duration": 12,
    "start_time": "2023-11-05T22:49:41.242Z"
   },
   {
    "duration": 32115,
    "start_time": "2023-11-05T22:49:41.255Z"
   },
   {
    "duration": 4,
    "start_time": "2023-11-05T22:50:13.372Z"
   },
   {
    "duration": 6,
    "start_time": "2023-11-05T22:50:13.377Z"
   },
   {
    "duration": 20,
    "start_time": "2023-11-05T22:50:13.384Z"
   },
   {
    "duration": 157586,
    "start_time": "2023-11-05T22:50:13.406Z"
   },
   {
    "duration": 3,
    "start_time": "2023-11-05T22:52:50.994Z"
   },
   {
    "duration": 5,
    "start_time": "2023-11-05T22:52:50.998Z"
   },
   {
    "duration": 10,
    "start_time": "2023-11-05T22:52:51.004Z"
   },
   {
    "duration": 18,
    "start_time": "2023-11-05T22:52:51.015Z"
   },
   {
    "duration": 12,
    "start_time": "2023-11-05T22:52:51.035Z"
   },
   {
    "duration": 16,
    "start_time": "2023-11-05T22:52:51.048Z"
   },
   {
    "duration": 198,
    "start_time": "2023-11-05T22:52:51.065Z"
   },
   {
    "duration": 574,
    "start_time": "2023-11-05T22:52:51.264Z"
   },
   {
    "duration": 25,
    "start_time": "2023-11-05T22:52:51.839Z"
   },
   {
    "duration": 3,
    "start_time": "2023-11-05T22:52:51.865Z"
   },
   {
    "duration": 587,
    "start_time": "2023-11-05T22:52:51.870Z"
   },
   {
    "duration": 11233,
    "start_time": "2023-11-05T22:52:52.459Z"
   }
  ],
  "kernelspec": {
   "display_name": "Python 3 (ipykernel)",
   "language": "python",
   "name": "python3"
  },
  "language_info": {
   "codemirror_mode": {
    "name": "ipython",
    "version": 3
   },
   "file_extension": ".py",
   "mimetype": "text/x-python",
   "name": "python",
   "nbconvert_exporter": "python",
   "pygments_lexer": "ipython3",
   "version": "3.9.13"
  },
  "toc": {
   "base_numbering": 1,
   "nav_menu": {},
   "number_sections": true,
   "sideBar": true,
   "skip_h1_title": true,
   "title_cell": "Содержание.",
   "title_sidebar": "Contents",
   "toc_cell": true,
   "toc_position": {
    "height": "calc(100% - 180px)",
    "left": "10px",
    "top": "150px",
    "width": "377.766px"
   },
   "toc_section_display": true,
   "toc_window_display": true
  },
  "varInspector": {
   "cols": {
    "lenName": 16,
    "lenType": 16,
    "lenVar": 40
   },
   "kernels_config": {
    "python": {
     "delete_cmd_postfix": "",
     "delete_cmd_prefix": "del ",
     "library": "var_list.py",
     "varRefreshCmd": "print(var_dic_list())"
    },
    "r": {
     "delete_cmd_postfix": ") ",
     "delete_cmd_prefix": "rm(",
     "library": "var_list.r",
     "varRefreshCmd": "cat(var_dic_list()) "
    }
   },
   "types_to_exclude": [
    "module",
    "function",
    "builtin_function_or_method",
    "instance",
    "_Feature"
   ],
   "window_display": false
  }
 },
 "nbformat": 4,
 "nbformat_minor": 5
}
